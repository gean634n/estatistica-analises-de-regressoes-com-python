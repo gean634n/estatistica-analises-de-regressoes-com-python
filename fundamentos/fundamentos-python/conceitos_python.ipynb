{
  "nbformat": 4,
  "nbformat_minor": 0,
  "metadata": {
    "colab": {
      "provenance": [],
      "toc_visible": true,
      "include_colab_link": true
    },
    "kernelspec": {
      "name": "python3",
      "display_name": "Python 3"
    },
    "language_info": {
      "name": "python"
    }
  },
  "cells": [
    {
      "cell_type": "markdown",
      "metadata": {
        "id": "view-in-github",
        "colab_type": "text"
      },
      "source": [
        "<a href=\"https://colab.research.google.com/github/gean634n/estatistica-analises-de-regressoes-com-python/blob/main/fundamentos/fundamentos-python/conceitos_python.ipynb\" target=\"_parent\"><img src=\"https://colab.research.google.com/assets/colab-badge.svg\" alt=\"Open In Colab\"/></a>"
      ]
    },
    {
      "cell_type": "markdown",
      "source": [
        "# **Introdução**"
      ],
      "metadata": {
        "id": "MfvomC6Z4N_p"
      }
    },
    {
      "cell_type": "markdown",
      "source": [
        "Python é uma linguagem de rogramação simples e versátil.<br>\n",
        "Aqui vamos ver comandos básicos que usaremos muito na análise de dados."
      ],
      "metadata": {
        "id": "qToBMDPi4VRr"
      }
    },
    {
      "cell_type": "code",
      "source": [
        "# 🖨️ Exibir informações na tela\n",
        "print('Olá mundo!!!') # Saída: Olá mundo!!!"
      ],
      "metadata": {
        "id": "-MbVvHA44dXd"
      },
      "execution_count": null,
      "outputs": []
    },
    {
      "cell_type": "code",
      "source": [
        "# 📦 Armazenando valores em variáveis\n",
        "message = 'Olá mundo a partir de uma variável'"
      ],
      "metadata": {
        "id": "MFBXwi0e4nR8"
      },
      "execution_count": null,
      "outputs": []
    },
    {
      "cell_type": "code",
      "source": [
        "# Podemos exibir o conteúdo da variável com print()\n",
        "print(message) # Saída: Olá mundo a partir de uma variável"
      ],
      "metadata": {
        "id": "pof5Mxts5Dwq"
      },
      "execution_count": null,
      "outputs": []
    },
    {
      "cell_type": "code",
      "source": [
        "# No Jupyter Notebook, se a variável for a última linha,\n",
        "# ela é exibida automaticamente:\n",
        "message"
      ],
      "metadata": {
        "id": "DlWYpDNk5RFu"
      },
      "execution_count": null,
      "outputs": []
    },
    {
      "cell_type": "code",
      "source": [
        "# ⌨️ Recebendo dados do usuário\n",
        "name = input('Qual é o seu nome? ') # (o usuário digita algo e aperta Enter)"
      ],
      "metadata": {
        "id": "8SlfW10N5cmt"
      },
      "execution_count": null,
      "outputs": []
    },
    {
      "cell_type": "code",
      "source": [
        "print('Olá', name)\n",
        "# Saída (se digitou Gean): Olá Gean"
      ],
      "metadata": {
        "id": "LNHF4psz5rdO"
      },
      "execution_count": null,
      "outputs": []
    },
    {
      "cell_type": "code",
      "source": [
        "# Forma mais compacta usando f-string (mais flexível e moderna)\n",
        "\n",
        "name = input('Qual é o seu nome? ')\n",
        "print(f\"Olá, {name}\")\n",
        "\n",
        "# 💡 A f-string permite inserir variáveis diretamente no texto,\n",
        "#    e também aplicar formatações."
      ],
      "metadata": {
        "id": "t2QLPevD6DDP"
      },
      "execution_count": null,
      "outputs": []
    },
    {
      "cell_type": "markdown",
      "source": [
        "# **Operadores Matemáticos**"
      ],
      "metadata": {
        "id": "CgEvdEgr9UBG"
      }
    },
    {
      "cell_type": "markdown",
      "source": [
        "Vamos criar duas variáveis para os exemplos"
      ],
      "metadata": {
        "id": "Yb804mNxvVR5"
      }
    },
    {
      "cell_type": "code",
      "source": [
        "n1 = 7\n",
        "n2 = 2"
      ],
      "metadata": {
        "id": "d3JckwzPvfYJ"
      },
      "execution_count": null,
      "outputs": []
    },
    {
      "cell_type": "markdown",
      "source": [
        "---"
      ],
      "metadata": {
        "id": "0oS0lRfZvoY6"
      }
    },
    {
      "cell_type": "code",
      "source": [
        "# ➕ Adição\n",
        "soma = n1 + n2\n",
        "print(soma)  # 9"
      ],
      "metadata": {
        "id": "4-yHCmDGlCZU"
      },
      "execution_count": null,
      "outputs": []
    },
    {
      "cell_type": "code",
      "source": [
        "# Adição acumulada\n",
        "soma = soma + n2\n",
        "print (soma) # 11"
      ],
      "metadata": {
        "id": "UYEAh_HplJd8"
      },
      "execution_count": null,
      "outputs": []
    },
    {
      "cell_type": "code",
      "source": [
        "# Forma reduzida (+=)\n",
        "soma += n2\n",
        "print(soma)  # 13"
      ],
      "metadata": {
        "id": "GGQc0EH1lRWh"
      },
      "execution_count": null,
      "outputs": []
    },
    {
      "cell_type": "markdown",
      "source": [
        "---"
      ],
      "metadata": {
        "id": "JJhNMPN4w1ib"
      }
    },
    {
      "cell_type": "code",
      "source": [
        "# ➖ Subtração\n",
        "sub = n1 - n2\n",
        "print (sub) # 5"
      ],
      "metadata": {
        "id": "5rryzc17lYrK"
      },
      "execution_count": null,
      "outputs": []
    },
    {
      "cell_type": "code",
      "source": [
        "# Subtração acumulada\n",
        "sub = sub - n2\n",
        "print (sub) # 3"
      ],
      "metadata": {
        "id": "F_nwPKDwxWZw"
      },
      "execution_count": null,
      "outputs": []
    },
    {
      "cell_type": "code",
      "source": [
        "# forma reduzida\n",
        "sub -= n2\n",
        "print (sub) # 1"
      ],
      "metadata": {
        "id": "5QtckcyaxgcA"
      },
      "execution_count": null,
      "outputs": []
    },
    {
      "cell_type": "markdown",
      "source": [
        "---"
      ],
      "metadata": {
        "id": "CJ6yUprQxsLD"
      }
    },
    {
      "cell_type": "code",
      "source": [
        "# ✖ Multiplicação\n",
        "mult = n1 * n2\n",
        "print (mult) # 14"
      ],
      "metadata": {
        "id": "w7p2PJpvluaX"
      },
      "execution_count": null,
      "outputs": []
    },
    {
      "cell_type": "code",
      "source": [
        "# multiplicação acumulada\n",
        "mult = mult * n2 # tbm pode ser utilizada a forma reduzida *=\n",
        "print (mult) # 28"
      ],
      "metadata": {
        "id": "M3exnt3Tl3mO"
      },
      "execution_count": null,
      "outputs": []
    },
    {
      "cell_type": "markdown",
      "source": [
        "---"
      ],
      "metadata": {
        "id": "uDt2FXeNyNCk"
      }
    },
    {
      "cell_type": "code",
      "source": [
        "# ➗ Divisão\n",
        "div = n1 / n2\n",
        "print(f\"{n1} dividido por {n2} = {div}\")"
      ],
      "metadata": {
        "id": "NXN4ExN7mFnd"
      },
      "execution_count": null,
      "outputs": []
    },
    {
      "cell_type": "code",
      "source": [
        "# O operador '/' sempre retorna float\n",
        "print(10 / 2)  # 5.0"
      ],
      "metadata": {
        "id": "DT_FUMm-zFqG"
      },
      "execution_count": null,
      "outputs": []
    },
    {
      "cell_type": "markdown",
      "source": [
        "---"
      ],
      "metadata": {
        "id": "3py7kq5ozO4-"
      }
    },
    {
      "cell_type": "code",
      "source": [
        "# 🔢 Divisão inteira (parte inteira do resultado)\n",
        "intdiv = n1 // n2\n",
        "print(f\"parte inteira de {n1} dividido por {n2} = {intdiv}\")  # 3"
      ],
      "metadata": {
        "id": "-484agL5sOHq"
      },
      "execution_count": null,
      "outputs": []
    },
    {
      "cell_type": "code",
      "source": [
        "# Atenção com números negativos:\n",
        "print(-7 // 2)  # -4 (arredonda para baixo)"
      ],
      "metadata": {
        "id": "kRrTDN-5sy75"
      },
      "execution_count": null,
      "outputs": []
    },
    {
      "cell_type": "markdown",
      "source": [
        "---"
      ],
      "metadata": {
        "id": "Eks3L8fLzd2-"
      }
    },
    {
      "cell_type": "code",
      "source": [
        "# ➗ Resto da divisão (módulo)\n",
        "restdiv = n1 % n2\n",
        "print(f\"resto de {n1} dividido por {n2} = {restdiv}\")  # 1"
      ],
      "metadata": {
        "id": "gOOcgotbsWR7"
      },
      "execution_count": null,
      "outputs": []
    },
    {
      "cell_type": "markdown",
      "source": [
        "---"
      ],
      "metadata": {
        "id": "265OHWUyz4ut"
      }
    },
    {
      "cell_type": "code",
      "source": [
        "# 🔼 Potenciação\n",
        "pot = n1 ** n2\n",
        "print(f\"{n1} elevado a {n2}ª potência = {pot}\")  # 49"
      ],
      "metadata": {
        "id": "dGKJ3ERonBge"
      },
      "execution_count": null,
      "outputs": []
    },
    {
      "cell_type": "code",
      "source": [
        "# Outra forma (usando função)\n",
        "print(pow(n1, n2))  # 49"
      ],
      "metadata": {
        "id": "nEJRKlvP0AfT"
      },
      "execution_count": null,
      "outputs": []
    },
    {
      "cell_type": "markdown",
      "source": [
        "**💡 Ordem de precedência**: Regra geral de precedência (do maior para o menor):\n",
        "\n",
        "1.   Parênteses ()\n",
        "2.   Potenciação **\n",
        "3.   Multiplicação *, Divisão /, Divisão inteira //, Módulo %\n",
        "4.   Adição +, Subtração -"
      ],
      "metadata": {
        "id": "79B-jRA5qGOB"
      }
    },
    {
      "cell_type": "code",
      "source": [
        "resultado = 3 + 2 * 5\n",
        "print(resultado)  # 13, pois multiplica antes de somar"
      ],
      "metadata": {
        "id": "rhSzaUqFqdsh"
      },
      "execution_count": null,
      "outputs": []
    },
    {
      "cell_type": "code",
      "source": [
        "resultado = (3 + 2) * 5\n",
        "print(resultado)  # 25, pois o parêntese altera a ordem"
      ],
      "metadata": {
        "id": "Kk2YD85HqjFl"
      },
      "execution_count": null,
      "outputs": []
    },
    {
      "cell_type": "markdown",
      "source": [
        "**Operadores unários (+ e -)**\n",
        "<br>Usados para indicar ou inverter sinais"
      ],
      "metadata": {
        "id": "BGkLskkxqrvY"
      }
    },
    {
      "cell_type": "code",
      "source": [
        "a = 5\n",
        "b = -3\n",
        "print(-a)  # -5\n",
        "print(+a)  # 5\n",
        "print(-b)  # 3\n",
        "print(+b)  # -3"
      ],
      "metadata": {
        "id": "glRIbFi-qvcq"
      },
      "execution_count": null,
      "outputs": []
    }
  ]
}