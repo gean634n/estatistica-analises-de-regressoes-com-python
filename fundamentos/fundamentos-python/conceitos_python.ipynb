{
  "nbformat": 4,
  "nbformat_minor": 0,
  "metadata": {
    "colab": {
      "provenance": [],
      "toc_visible": true,
      "include_colab_link": true
    },
    "kernelspec": {
      "name": "python3",
      "display_name": "Python 3"
    },
    "language_info": {
      "name": "python"
    }
  },
  "cells": [
    {
      "cell_type": "markdown",
      "metadata": {
        "id": "view-in-github",
        "colab_type": "text"
      },
      "source": [
        "<a href=\"https://colab.research.google.com/github/gean634n/estatistica-analises-de-regressoes-com-python/blob/main/fundamentos/fundamentos-python/conceitos_python.ipynb\" target=\"_parent\"><img src=\"https://colab.research.google.com/assets/colab-badge.svg\" alt=\"Open In Colab\"/></a>"
      ]
    },
    {
      "cell_type": "markdown",
      "source": [
        "# **Introdução**"
      ],
      "metadata": {
        "id": "MfvomC6Z4N_p"
      }
    },
    {
      "cell_type": "markdown",
      "source": [
        "Comandos básicos de Python para aplicar em análise de dados."
      ],
      "metadata": {
        "id": "qToBMDPi4VRr"
      }
    },
    {
      "cell_type": "code",
      "source": [
        "print ('Olá mundo!!!')"
      ],
      "metadata": {
        "colab": {
          "base_uri": "https://localhost:8080/"
        },
        "id": "-MbVvHA44dXd",
        "outputId": "d1861adc-3436-4c43-fd64-7dbf3c086077"
      },
      "execution_count": null,
      "outputs": [
        {
          "output_type": "stream",
          "name": "stdout",
          "text": [
            "Olá mundo!!!\n"
          ]
        }
      ]
    },
    {
      "cell_type": "code",
      "source": [
        "message = 'Olá mundo a partir de uma variavel'"
      ],
      "metadata": {
        "id": "MFBXwi0e4nR8"
      },
      "execution_count": null,
      "outputs": []
    },
    {
      "cell_type": "code",
      "source": [
        "print (message)"
      ],
      "metadata": {
        "colab": {
          "base_uri": "https://localhost:8080/"
        },
        "id": "pof5Mxts5Dwq",
        "outputId": "04e821c3-f7da-49af-c0d0-cc2170d22dc3"
      },
      "execution_count": null,
      "outputs": [
        {
          "output_type": "stream",
          "name": "stdout",
          "text": [
            "Olá mundo a partir de uma variavel\n"
          ]
        }
      ]
    },
    {
      "cell_type": "code",
      "source": [
        "message"
      ],
      "metadata": {
        "colab": {
          "base_uri": "https://localhost:8080/",
          "height": 35
        },
        "id": "DlWYpDNk5RFu",
        "outputId": "e048bcaa-b3a4-48b2-db9a-b23192fd826f"
      },
      "execution_count": null,
      "outputs": [
        {
          "output_type": "execute_result",
          "data": {
            "text/plain": [
              "'Olá mundo a partir de uma variavel'"
            ],
            "application/vnd.google.colaboratory.intrinsic+json": {
              "type": "string"
            }
          },
          "metadata": {},
          "execution_count": 4
        }
      ]
    },
    {
      "cell_type": "code",
      "source": [
        "name = input ('Qual é o seu nome? ')"
      ],
      "metadata": {
        "colab": {
          "base_uri": "https://localhost:8080/"
        },
        "id": "8SlfW10N5cmt",
        "outputId": "f9d22fd0-32dc-4077-e706-4c1e5baeea6d"
      },
      "execution_count": null,
      "outputs": [
        {
          "name": "stdout",
          "output_type": "stream",
          "text": [
            "Qual é o seu nome? Gean\n"
          ]
        }
      ]
    },
    {
      "cell_type": "code",
      "source": [
        "print ('Olá', name)"
      ],
      "metadata": {
        "colab": {
          "base_uri": "https://localhost:8080/"
        },
        "id": "LNHF4psz5rdO",
        "outputId": "2c8f0458-8430-4195-df8a-cd459911e084"
      },
      "execution_count": null,
      "outputs": [
        {
          "output_type": "stream",
          "name": "stdout",
          "text": [
            "Olá Gean\n"
          ]
        }
      ]
    },
    {
      "cell_type": "code",
      "source": [
        "name = input('Qual é o seu nome?')\n",
        "print ('Olá', name)"
      ],
      "metadata": {
        "colab": {
          "base_uri": "https://localhost:8080/"
        },
        "id": "t2QLPevD6DDP",
        "outputId": "6158f0bb-d74a-4f70-f5aa-4599bdcf84d4"
      },
      "execution_count": null,
      "outputs": [
        {
          "output_type": "stream",
          "name": "stdout",
          "text": [
            "Qual é o seu nome?Gean\n",
            "Olá Gean\n"
          ]
        }
      ]
    },
    {
      "cell_type": "markdown",
      "source": [
        "# **Operadores Matemáticos**"
      ],
      "metadata": {
        "id": "CgEvdEgr9UBG"
      }
    },
    {
      "cell_type": "markdown",
      "source": [
        "Vamos criar duas variáveis para os exemplos"
      ],
      "metadata": {
        "id": "Yb804mNxvVR5"
      }
    },
    {
      "cell_type": "code",
      "source": [
        "n1 = 7\n",
        "n2 = 2"
      ],
      "metadata": {
        "id": "d3JckwzPvfYJ"
      },
      "execution_count": 29,
      "outputs": []
    },
    {
      "cell_type": "markdown",
      "source": [
        "---"
      ],
      "metadata": {
        "id": "0oS0lRfZvoY6"
      }
    },
    {
      "cell_type": "code",
      "source": [
        "# ➕ Adição\n",
        "soma = n1 + n2\n",
        "print(soma)  # 9"
      ],
      "metadata": {
        "colab": {
          "base_uri": "https://localhost:8080/"
        },
        "id": "4-yHCmDGlCZU",
        "outputId": "87448f61-2adf-4a5a-c2d1-a54bfe7e0fc6"
      },
      "execution_count": 33,
      "outputs": [
        {
          "output_type": "stream",
          "name": "stdout",
          "text": [
            "9\n"
          ]
        }
      ]
    },
    {
      "cell_type": "code",
      "source": [
        "# Adição acumulada\n",
        "soma = soma + n2\n",
        "print (soma) # 11"
      ],
      "metadata": {
        "colab": {
          "base_uri": "https://localhost:8080/"
        },
        "id": "UYEAh_HplJd8",
        "outputId": "63be98e4-9198-4ce1-daf6-15290066ab84"
      },
      "execution_count": 34,
      "outputs": [
        {
          "output_type": "stream",
          "name": "stdout",
          "text": [
            "11\n"
          ]
        }
      ]
    },
    {
      "cell_type": "code",
      "source": [
        "# Forma reduzida (+=)\n",
        "soma += n2\n",
        "print(soma)  # 13"
      ],
      "metadata": {
        "colab": {
          "base_uri": "https://localhost:8080/"
        },
        "id": "GGQc0EH1lRWh",
        "outputId": "5513c0d9-243a-43ed-e456-4bee4abc5c5c"
      },
      "execution_count": 35,
      "outputs": [
        {
          "output_type": "stream",
          "name": "stdout",
          "text": [
            "13\n"
          ]
        }
      ]
    },
    {
      "cell_type": "markdown",
      "source": [
        "---"
      ],
      "metadata": {
        "id": "JJhNMPN4w1ib"
      }
    },
    {
      "cell_type": "code",
      "source": [
        "# ➖ Subtração\n",
        "sub = n1 - n2\n",
        "print (sub) # 5"
      ],
      "metadata": {
        "colab": {
          "base_uri": "https://localhost:8080/"
        },
        "id": "5rryzc17lYrK",
        "outputId": "59d0a09f-ff32-4221-c157-63598d827c25"
      },
      "execution_count": 36,
      "outputs": [
        {
          "output_type": "stream",
          "name": "stdout",
          "text": [
            "5\n"
          ]
        }
      ]
    },
    {
      "cell_type": "code",
      "source": [
        "# Subtração acumulada\n",
        "sub = sub - n2\n",
        "print (sub) # 3"
      ],
      "metadata": {
        "id": "F_nwPKDwxWZw",
        "outputId": "8a334142-093a-40a8-8dc4-2c790526511c",
        "colab": {
          "base_uri": "https://localhost:8080/"
        }
      },
      "execution_count": 37,
      "outputs": [
        {
          "output_type": "stream",
          "name": "stdout",
          "text": [
            "3\n"
          ]
        }
      ]
    },
    {
      "cell_type": "code",
      "source": [
        "# forma reduzida\n",
        "sub -= n2\n",
        "print (sub) # 1"
      ],
      "metadata": {
        "id": "5QtckcyaxgcA",
        "outputId": "8a0c0370-4ce7-498a-95ef-1d49b37cedbd",
        "colab": {
          "base_uri": "https://localhost:8080/"
        }
      },
      "execution_count": 39,
      "outputs": [
        {
          "output_type": "stream",
          "name": "stdout",
          "text": [
            "1\n"
          ]
        }
      ]
    },
    {
      "cell_type": "markdown",
      "source": [
        "---"
      ],
      "metadata": {
        "id": "CJ6yUprQxsLD"
      }
    },
    {
      "cell_type": "code",
      "source": [
        "# ✖ Multiplicação\n",
        "mult = n1 * n2\n",
        "print (mult) # 14"
      ],
      "metadata": {
        "colab": {
          "base_uri": "https://localhost:8080/"
        },
        "id": "w7p2PJpvluaX",
        "outputId": "c1bba5d6-b4e0-440e-8947-13b6aa439cb0"
      },
      "execution_count": 40,
      "outputs": [
        {
          "output_type": "stream",
          "name": "stdout",
          "text": [
            "14\n"
          ]
        }
      ]
    },
    {
      "cell_type": "code",
      "source": [
        "# multiplicação acumulada\n",
        "mult = mult * n2 # tbm pode ser utilizada a forma reduzida *=\n",
        "print (mult) # 28"
      ],
      "metadata": {
        "colab": {
          "base_uri": "https://localhost:8080/"
        },
        "id": "M3exnt3Tl3mO",
        "outputId": "1113cac2-f3a4-496a-f804-510977e1bff5"
      },
      "execution_count": 42,
      "outputs": [
        {
          "output_type": "stream",
          "name": "stdout",
          "text": [
            "28\n"
          ]
        }
      ]
    },
    {
      "cell_type": "markdown",
      "source": [
        "---"
      ],
      "metadata": {
        "id": "uDt2FXeNyNCk"
      }
    },
    {
      "cell_type": "code",
      "source": [
        "# ➗ Divisão\n",
        "div = n1 / n2\n",
        "print(f\"{n1} dividido por {n2} = {div}\")"
      ],
      "metadata": {
        "colab": {
          "base_uri": "https://localhost:8080/"
        },
        "id": "NXN4ExN7mFnd",
        "outputId": "cd56da68-1b8f-4abc-9a14-ddea59092913"
      },
      "execution_count": 26,
      "outputs": [
        {
          "output_type": "stream",
          "name": "stdout",
          "text": [
            "7 dividido por 2 = 3.5\n"
          ]
        }
      ]
    },
    {
      "cell_type": "code",
      "source": [
        "# O operador '/' sempre retorna float\n",
        "print(10 / 2)  # 5.0"
      ],
      "metadata": {
        "id": "DT_FUMm-zFqG"
      },
      "execution_count": null,
      "outputs": []
    },
    {
      "cell_type": "markdown",
      "source": [
        "---"
      ],
      "metadata": {
        "id": "3py7kq5ozO4-"
      }
    },
    {
      "cell_type": "code",
      "source": [
        "# 🔢 Divisão inteira (parte inteira do resultado)\n",
        "intdiv = n1 // n2\n",
        "print(f\"parte inteira de {n1} dividido por {n2} = {intdiv}\")  # 3"
      ],
      "metadata": {
        "colab": {
          "base_uri": "https://localhost:8080/"
        },
        "id": "-484agL5sOHq",
        "outputId": "79a72c6a-34dd-4428-fd84-80722c80a443"
      },
      "execution_count": 24,
      "outputs": [
        {
          "output_type": "stream",
          "name": "stdout",
          "text": [
            "parte inteira de 7 dividido por 2 = 3\n"
          ]
        }
      ]
    },
    {
      "cell_type": "code",
      "source": [
        "# Atenção com números negativos:\n",
        "print(-7 // 2)  # -4 (arredonda para baixo)"
      ],
      "metadata": {
        "colab": {
          "base_uri": "https://localhost:8080/"
        },
        "id": "kRrTDN-5sy75",
        "outputId": "ecb0d5f8-8e39-4bc1-9756-3072654786e2"
      },
      "execution_count": 28,
      "outputs": [
        {
          "output_type": "stream",
          "name": "stdout",
          "text": [
            "-4\n"
          ]
        }
      ]
    },
    {
      "cell_type": "markdown",
      "source": [
        "---"
      ],
      "metadata": {
        "id": "Eks3L8fLzd2-"
      }
    },
    {
      "cell_type": "code",
      "source": [
        "# ➗ Resto da divisão (módulo)\n",
        "restdiv = n1 % n2\n",
        "print(f\"resto de {n1} dividido por {n2} = {restdiv}\")  # 1"
      ],
      "metadata": {
        "colab": {
          "base_uri": "https://localhost:8080/"
        },
        "id": "gOOcgotbsWR7",
        "outputId": "3129065d-56dc-4fd1-e685-b1015e1eec56"
      },
      "execution_count": 25,
      "outputs": [
        {
          "output_type": "stream",
          "name": "stdout",
          "text": [
            "resto de 7 dividido por 2 = 1\n"
          ]
        }
      ]
    },
    {
      "cell_type": "markdown",
      "source": [
        "---"
      ],
      "metadata": {
        "id": "265OHWUyz4ut"
      }
    },
    {
      "cell_type": "code",
      "source": [
        "# 🔼 Potenciação\n",
        "pot = n1 ** n2\n",
        "print(f\"{n1} elevado a {n2}ª potência = {pot}\")  # 49"
      ],
      "metadata": {
        "colab": {
          "base_uri": "https://localhost:8080/"
        },
        "id": "dGKJ3ERonBge",
        "outputId": "a0a13dd9-63f1-4ca5-f62b-517abaf4c628"
      },
      "execution_count": 43,
      "outputs": [
        {
          "output_type": "stream",
          "name": "stdout",
          "text": [
            "7 elevado a 2ª potência = 49\n"
          ]
        }
      ]
    },
    {
      "cell_type": "code",
      "source": [
        "# Outra forma (usando função)\n",
        "print(pow(n1, n2))  # 49"
      ],
      "metadata": {
        "id": "nEJRKlvP0AfT"
      },
      "execution_count": null,
      "outputs": []
    },
    {
      "cell_type": "markdown",
      "source": [
        "**💡 Ordem de precedência**: Regra geral de precedência (do maior para o menor):\n",
        "\n",
        "1.   Parênteses ()\n",
        "2.   Potenciação **\n",
        "3.   Multiplicação *, Divisão /, Divisão inteira //, Módulo %\n",
        "4.   Adição +, Subtração -"
      ],
      "metadata": {
        "id": "79B-jRA5qGOB"
      }
    },
    {
      "cell_type": "code",
      "source": [
        "resultado = 3 + 2 * 5\n",
        "print(resultado)  # 13, pois multiplica antes de somar"
      ],
      "metadata": {
        "colab": {
          "base_uri": "https://localhost:8080/"
        },
        "id": "rhSzaUqFqdsh",
        "outputId": "2865a96c-51ac-4b05-a658-29098e1bc830"
      },
      "execution_count": 17,
      "outputs": [
        {
          "output_type": "stream",
          "name": "stdout",
          "text": [
            "13\n"
          ]
        }
      ]
    },
    {
      "cell_type": "code",
      "source": [
        "resultado = (3 + 2) * 5\n",
        "print(resultado)  # 25, pois o parêntese altera a ordem"
      ],
      "metadata": {
        "colab": {
          "base_uri": "https://localhost:8080/"
        },
        "id": "Kk2YD85HqjFl",
        "outputId": "bde5a12b-92f8-4ceb-92d0-194596e380aa"
      },
      "execution_count": 18,
      "outputs": [
        {
          "output_type": "stream",
          "name": "stdout",
          "text": [
            "25\n"
          ]
        }
      ]
    },
    {
      "cell_type": "markdown",
      "source": [
        "**Operadores unários (+ e -)**\n",
        "<br>Usados para indicar ou inverter sinais"
      ],
      "metadata": {
        "id": "BGkLskkxqrvY"
      }
    },
    {
      "cell_type": "code",
      "source": [
        "a = 5\n",
        "b = -3\n",
        "print(-a)  # -5\n",
        "print(+a)  # 5\n",
        "print(-b)  # 3\n",
        "print(+b)  # -3"
      ],
      "metadata": {
        "colab": {
          "base_uri": "https://localhost:8080/"
        },
        "id": "glRIbFi-qvcq",
        "outputId": "ee092de2-3ae9-4c17-a594-9b463b8a09fc"
      },
      "execution_count": 22,
      "outputs": [
        {
          "output_type": "stream",
          "name": "stdout",
          "text": [
            "-5\n",
            "5\n",
            "3\n",
            "-3\n"
          ]
        }
      ]
    }
  ]
}