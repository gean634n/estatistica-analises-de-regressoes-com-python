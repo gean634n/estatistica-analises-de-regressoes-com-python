{
  "nbformat": 4,
  "nbformat_minor": 0,
  "metadata": {
    "colab": {
      "provenance": [],
      "toc_visible": true,
      "include_colab_link": true
    },
    "kernelspec": {
      "name": "python3",
      "display_name": "Python 3"
    },
    "language_info": {
      "name": "python"
    }
  },
  "cells": [
    {
      "cell_type": "markdown",
      "metadata": {
        "id": "view-in-github",
        "colab_type": "text"
      },
      "source": [
        "<a href=\"https://colab.research.google.com/github/gean634n/estatistica-analises-de-regressoes-com-python/blob/main/fundamentos/fundamentos-python/conceitos_python.ipynb\" target=\"_parent\"><img src=\"https://colab.research.google.com/assets/colab-badge.svg\" alt=\"Open In Colab\"/></a>"
      ]
    },
    {
      "cell_type": "markdown",
      "source": [
        "# **Introdução**"
      ],
      "metadata": {
        "id": "MfvomC6Z4N_p"
      }
    },
    {
      "cell_type": "markdown",
      "source": [
        "Python é uma linguagem de rogramação simples e versátil.<br>\n",
        "Aqui vamos ver comandos básicos que usaremos muito na análise de dados."
      ],
      "metadata": {
        "id": "qToBMDPi4VRr"
      }
    },
    {
      "cell_type": "code",
      "source": [
        "# 🖨️ Exibir informações na tela\n",
        "print('Olá mundo!!!') # Saída: Olá mundo!!!"
      ],
      "metadata": {
        "id": "-MbVvHA44dXd",
        "colab": {
          "base_uri": "https://localhost:8080/"
        },
        "outputId": "89167a1f-5e5c-4492-c6f7-c3be0bc9bb20"
      },
      "execution_count": 24,
      "outputs": [
        {
          "output_type": "stream",
          "name": "stdout",
          "text": [
            "Olá mundo!!!\n"
          ]
        }
      ]
    },
    {
      "cell_type": "code",
      "source": [
        "# 📦 Armazenando valores em variáveis\n",
        "message = 'Olá mundo a partir de uma variável'"
      ],
      "metadata": {
        "id": "MFBXwi0e4nR8"
      },
      "execution_count": 25,
      "outputs": []
    },
    {
      "cell_type": "code",
      "source": [
        "# Podemos exibir o conteúdo da variável com print()\n",
        "print(message) # Saída: Olá mundo a partir de uma variável"
      ],
      "metadata": {
        "id": "pof5Mxts5Dwq",
        "colab": {
          "base_uri": "https://localhost:8080/"
        },
        "outputId": "053ecfff-f274-413c-a35b-65a09aee72f2"
      },
      "execution_count": 26,
      "outputs": [
        {
          "output_type": "stream",
          "name": "stdout",
          "text": [
            "Olá mundo a partir de uma variável\n"
          ]
        }
      ]
    },
    {
      "cell_type": "code",
      "source": [
        "# No Jupyter Notebook, se a variável for a última linha,\n",
        "# ela é exibida automaticamente:\n",
        "message"
      ],
      "metadata": {
        "id": "DlWYpDNk5RFu",
        "colab": {
          "base_uri": "https://localhost:8080/",
          "height": 35
        },
        "outputId": "fefe2ba2-640f-4410-d5cf-697693dc5ced"
      },
      "execution_count": 27,
      "outputs": [
        {
          "output_type": "execute_result",
          "data": {
            "text/plain": [
              "'Olá mundo a partir de uma variável'"
            ],
            "application/vnd.google.colaboratory.intrinsic+json": {
              "type": "string"
            }
          },
          "metadata": {},
          "execution_count": 27
        }
      ]
    },
    {
      "cell_type": "code",
      "source": [
        "# ⌨️ Recebendo dados do usuário\n",
        "name = input('Qual é o seu nome? ') # (o usuário digita algo e aperta Enter)"
      ],
      "metadata": {
        "id": "8SlfW10N5cmt",
        "colab": {
          "base_uri": "https://localhost:8080/"
        },
        "outputId": "13d799b1-e9df-4a98-b580-f5905ab7585b"
      },
      "execution_count": 28,
      "outputs": [
        {
          "name": "stdout",
          "output_type": "stream",
          "text": [
            "Qual é o seu nome? Gean\n"
          ]
        }
      ]
    },
    {
      "cell_type": "code",
      "source": [
        "print('Olá', name)\n",
        "# Saída (se digitou Gean): Olá Gean"
      ],
      "metadata": {
        "id": "LNHF4psz5rdO",
        "colab": {
          "base_uri": "https://localhost:8080/"
        },
        "outputId": "ea17eb4d-6da1-4b4c-e4d2-644e3fd85c75"
      },
      "execution_count": 29,
      "outputs": [
        {
          "output_type": "stream",
          "name": "stdout",
          "text": [
            "Olá Gean\n"
          ]
        }
      ]
    },
    {
      "cell_type": "code",
      "source": [
        "# Forma mais compacta usando f-string (mais flexível e moderna)\n",
        "\n",
        "name = input('Qual é o seu nome? ')\n",
        "print(f\"Olá, {name}\")\n",
        "\n",
        "# 💡 A f-string permite inserir variáveis diretamente no texto,\n",
        "#    e também aplicar formatações."
      ],
      "metadata": {
        "id": "t2QLPevD6DDP",
        "colab": {
          "base_uri": "https://localhost:8080/"
        },
        "outputId": "92ee2cf2-db07-4233-833e-35ea7e821cb4"
      },
      "execution_count": 30,
      "outputs": [
        {
          "output_type": "stream",
          "name": "stdout",
          "text": [
            "Qual é o seu nome? Gean\n",
            "Olá, Gean\n"
          ]
        }
      ]
    },
    {
      "cell_type": "markdown",
      "source": [
        "# **Operadores Matemáticos**"
      ],
      "metadata": {
        "id": "CgEvdEgr9UBG"
      }
    },
    {
      "cell_type": "markdown",
      "source": [
        "Vamos criar duas variáveis para os exemplos"
      ],
      "metadata": {
        "id": "Yb804mNxvVR5"
      }
    },
    {
      "cell_type": "code",
      "source": [
        "n1 = 7\n",
        "n2 = 2"
      ],
      "metadata": {
        "id": "d3JckwzPvfYJ"
      },
      "execution_count": 31,
      "outputs": []
    },
    {
      "cell_type": "markdown",
      "source": [
        "---"
      ],
      "metadata": {
        "id": "0oS0lRfZvoY6"
      }
    },
    {
      "cell_type": "code",
      "source": [
        "# ➕ Adição\n",
        "soma = n1 + n2\n",
        "print(soma)  # 9"
      ],
      "metadata": {
        "id": "4-yHCmDGlCZU",
        "colab": {
          "base_uri": "https://localhost:8080/"
        },
        "outputId": "42f587a5-56b5-4acf-f592-e0325bf35f4b"
      },
      "execution_count": 32,
      "outputs": [
        {
          "output_type": "stream",
          "name": "stdout",
          "text": [
            "9\n"
          ]
        }
      ]
    },
    {
      "cell_type": "code",
      "source": [
        "# Adição acumulada\n",
        "soma = soma + n2\n",
        "print (soma) # 11"
      ],
      "metadata": {
        "id": "UYEAh_HplJd8",
        "colab": {
          "base_uri": "https://localhost:8080/"
        },
        "outputId": "7e0ccc1c-dd87-45b7-91f3-ca40a16c8e07"
      },
      "execution_count": 33,
      "outputs": [
        {
          "output_type": "stream",
          "name": "stdout",
          "text": [
            "11\n"
          ]
        }
      ]
    },
    {
      "cell_type": "code",
      "source": [
        "# Forma reduzida (+=)\n",
        "soma += n2\n",
        "print(soma)  # 13"
      ],
      "metadata": {
        "id": "GGQc0EH1lRWh",
        "colab": {
          "base_uri": "https://localhost:8080/"
        },
        "outputId": "f0cfcbf0-9cd7-4d8e-dc7f-e00242523fc6"
      },
      "execution_count": 34,
      "outputs": [
        {
          "output_type": "stream",
          "name": "stdout",
          "text": [
            "13\n"
          ]
        }
      ]
    },
    {
      "cell_type": "markdown",
      "source": [
        "---"
      ],
      "metadata": {
        "id": "JJhNMPN4w1ib"
      }
    },
    {
      "cell_type": "code",
      "source": [
        "# ➖ Subtração\n",
        "sub = n1 - n2\n",
        "print (sub) # 5"
      ],
      "metadata": {
        "id": "5rryzc17lYrK",
        "colab": {
          "base_uri": "https://localhost:8080/"
        },
        "outputId": "93835480-09de-42e3-aaac-c13d4aa3ca79"
      },
      "execution_count": 35,
      "outputs": [
        {
          "output_type": "stream",
          "name": "stdout",
          "text": [
            "5\n"
          ]
        }
      ]
    },
    {
      "cell_type": "code",
      "source": [
        "# Subtração acumulada\n",
        "sub = sub - n2\n",
        "print (sub) # 3"
      ],
      "metadata": {
        "id": "F_nwPKDwxWZw",
        "colab": {
          "base_uri": "https://localhost:8080/"
        },
        "outputId": "7835cbac-e30c-4970-fd28-217e793ac5f9"
      },
      "execution_count": 36,
      "outputs": [
        {
          "output_type": "stream",
          "name": "stdout",
          "text": [
            "3\n"
          ]
        }
      ]
    },
    {
      "cell_type": "code",
      "source": [
        "# forma reduzida\n",
        "sub -= n2\n",
        "print (sub) # 1"
      ],
      "metadata": {
        "id": "5QtckcyaxgcA",
        "colab": {
          "base_uri": "https://localhost:8080/"
        },
        "outputId": "2cdbd988-c39c-4491-c485-2c2e856bad67"
      },
      "execution_count": 37,
      "outputs": [
        {
          "output_type": "stream",
          "name": "stdout",
          "text": [
            "1\n"
          ]
        }
      ]
    },
    {
      "cell_type": "markdown",
      "source": [
        "---"
      ],
      "metadata": {
        "id": "CJ6yUprQxsLD"
      }
    },
    {
      "cell_type": "code",
      "source": [
        "# ✖ Multiplicação\n",
        "mult = n1 * n2\n",
        "print (mult) # 14"
      ],
      "metadata": {
        "id": "w7p2PJpvluaX",
        "colab": {
          "base_uri": "https://localhost:8080/"
        },
        "outputId": "59a438fb-3103-4b32-8f6a-cf3094ded0e7"
      },
      "execution_count": 38,
      "outputs": [
        {
          "output_type": "stream",
          "name": "stdout",
          "text": [
            "14\n"
          ]
        }
      ]
    },
    {
      "cell_type": "code",
      "source": [
        "# multiplicação acumulada\n",
        "mult = mult * n2 # tbm pode ser utilizada a forma reduzida *=\n",
        "print (mult) # 28"
      ],
      "metadata": {
        "id": "M3exnt3Tl3mO",
        "colab": {
          "base_uri": "https://localhost:8080/"
        },
        "outputId": "68277f71-5505-4d0a-fa81-fd1eecf27115"
      },
      "execution_count": 39,
      "outputs": [
        {
          "output_type": "stream",
          "name": "stdout",
          "text": [
            "28\n"
          ]
        }
      ]
    },
    {
      "cell_type": "markdown",
      "source": [
        "---"
      ],
      "metadata": {
        "id": "uDt2FXeNyNCk"
      }
    },
    {
      "cell_type": "code",
      "source": [
        "# ➗ Divisão\n",
        "div = n1 / n2\n",
        "print(f\"{n1} dividido por {n2} = {div}\")"
      ],
      "metadata": {
        "id": "NXN4ExN7mFnd",
        "colab": {
          "base_uri": "https://localhost:8080/"
        },
        "outputId": "7ac8750d-edd4-4c85-d475-c00be8a61bd6"
      },
      "execution_count": 40,
      "outputs": [
        {
          "output_type": "stream",
          "name": "stdout",
          "text": [
            "7 dividido por 2 = 3.5\n"
          ]
        }
      ]
    },
    {
      "cell_type": "code",
      "source": [
        "# O operador '/' sempre retorna float\n",
        "print(10 / 2)  # 5.0"
      ],
      "metadata": {
        "id": "DT_FUMm-zFqG",
        "colab": {
          "base_uri": "https://localhost:8080/"
        },
        "outputId": "f51a4d1d-e84b-40fb-b682-c7f7f3deab2c"
      },
      "execution_count": 41,
      "outputs": [
        {
          "output_type": "stream",
          "name": "stdout",
          "text": [
            "5.0\n"
          ]
        }
      ]
    },
    {
      "cell_type": "markdown",
      "source": [
        "---"
      ],
      "metadata": {
        "id": "3py7kq5ozO4-"
      }
    },
    {
      "cell_type": "code",
      "source": [
        "# 🔢 Divisão inteira (parte inteira do resultado)\n",
        "intdiv = n1 // n2\n",
        "print(f\"parte inteira de {n1} dividido por {n2} = {intdiv}\")  # 3"
      ],
      "metadata": {
        "id": "-484agL5sOHq",
        "colab": {
          "base_uri": "https://localhost:8080/"
        },
        "outputId": "5a9cf900-3c34-4908-ff4b-ed4909403305"
      },
      "execution_count": 42,
      "outputs": [
        {
          "output_type": "stream",
          "name": "stdout",
          "text": [
            "parte inteira de 7 dividido por 2 = 3\n"
          ]
        }
      ]
    },
    {
      "cell_type": "code",
      "source": [
        "# Atenção com números negativos:\n",
        "print(-7 // 2)  # -4 (arredonda para baixo)"
      ],
      "metadata": {
        "id": "kRrTDN-5sy75",
        "colab": {
          "base_uri": "https://localhost:8080/"
        },
        "outputId": "20d36e30-19e4-4e15-f69a-59341a6619ec"
      },
      "execution_count": 43,
      "outputs": [
        {
          "output_type": "stream",
          "name": "stdout",
          "text": [
            "-4\n"
          ]
        }
      ]
    },
    {
      "cell_type": "markdown",
      "source": [
        "---"
      ],
      "metadata": {
        "id": "Eks3L8fLzd2-"
      }
    },
    {
      "cell_type": "code",
      "source": [
        "# ➗ Resto da divisão (módulo)\n",
        "restdiv = n1 % n2\n",
        "print(f\"resto de {n1} dividido por {n2} = {restdiv}\")  # 1"
      ],
      "metadata": {
        "id": "gOOcgotbsWR7",
        "colab": {
          "base_uri": "https://localhost:8080/"
        },
        "outputId": "80e2480c-fdba-4086-ff32-a13acf6c8675"
      },
      "execution_count": 44,
      "outputs": [
        {
          "output_type": "stream",
          "name": "stdout",
          "text": [
            "resto de 7 dividido por 2 = 1\n"
          ]
        }
      ]
    },
    {
      "cell_type": "markdown",
      "source": [
        "---"
      ],
      "metadata": {
        "id": "265OHWUyz4ut"
      }
    },
    {
      "cell_type": "code",
      "source": [
        "# 🔼 Potenciação\n",
        "pot = n1 ** n2\n",
        "print(f\"{n1} elevado a {n2}ª potência = {pot}\")  # 49"
      ],
      "metadata": {
        "id": "dGKJ3ERonBge",
        "colab": {
          "base_uri": "https://localhost:8080/"
        },
        "outputId": "37daf16e-c0ae-4f62-80f7-690b954ca919"
      },
      "execution_count": 45,
      "outputs": [
        {
          "output_type": "stream",
          "name": "stdout",
          "text": [
            "7 elevado a 2ª potência = 49\n"
          ]
        }
      ]
    },
    {
      "cell_type": "code",
      "source": [
        "# Outra forma (usando função)\n",
        "print(pow(n1, n2))  # 49"
      ],
      "metadata": {
        "id": "nEJRKlvP0AfT",
        "colab": {
          "base_uri": "https://localhost:8080/"
        },
        "outputId": "6be45bbb-5fdf-4120-aa76-84fb0252c9de"
      },
      "execution_count": 46,
      "outputs": [
        {
          "output_type": "stream",
          "name": "stdout",
          "text": [
            "49\n"
          ]
        }
      ]
    },
    {
      "cell_type": "markdown",
      "source": [
        "**💡 Ordem de precedência**: Regra geral de precedência (do maior para o menor):\n",
        "\n",
        "1.   Parênteses ()\n",
        "2.   Potenciação **\n",
        "3.   Multiplicação *, Divisão /, Divisão inteira //, Módulo %\n",
        "4.   Adição +, Subtração -"
      ],
      "metadata": {
        "id": "79B-jRA5qGOB"
      }
    },
    {
      "cell_type": "code",
      "source": [
        "resultado = 3 + 2 * 5\n",
        "print(resultado)  # 13, pois multiplica antes de somar"
      ],
      "metadata": {
        "id": "rhSzaUqFqdsh",
        "colab": {
          "base_uri": "https://localhost:8080/"
        },
        "outputId": "c1e2c71b-f162-40c8-8d31-204793543985"
      },
      "execution_count": 47,
      "outputs": [
        {
          "output_type": "stream",
          "name": "stdout",
          "text": [
            "13\n"
          ]
        }
      ]
    },
    {
      "cell_type": "code",
      "source": [
        "resultado = (3 + 2) * 5\n",
        "print(resultado)  # 25, pois o parêntese altera a ordem"
      ],
      "metadata": {
        "id": "Kk2YD85HqjFl",
        "colab": {
          "base_uri": "https://localhost:8080/"
        },
        "outputId": "026d8a58-6e27-46c0-9c01-8f218f28df56"
      },
      "execution_count": 48,
      "outputs": [
        {
          "output_type": "stream",
          "name": "stdout",
          "text": [
            "25\n"
          ]
        }
      ]
    },
    {
      "cell_type": "markdown",
      "source": [
        "**Operadores unários (+ e -)**\n",
        "<br>Usados para indicar ou inverter sinais"
      ],
      "metadata": {
        "id": "BGkLskkxqrvY"
      }
    },
    {
      "cell_type": "code",
      "source": [
        "a = 5\n",
        "b = -3\n",
        "print(-a)  # -5\n",
        "print(+a)  # 5\n",
        "print(-b)  # 3\n",
        "print(+b)  # -3"
      ],
      "metadata": {
        "id": "glRIbFi-qvcq",
        "colab": {
          "base_uri": "https://localhost:8080/"
        },
        "outputId": "7b38dae2-f449-4f4e-a97f-44be99e0aad4"
      },
      "execution_count": 49,
      "outputs": [
        {
          "output_type": "stream",
          "name": "stdout",
          "text": [
            "-5\n",
            "5\n",
            "3\n",
            "-3\n"
          ]
        }
      ]
    },
    {
      "cell_type": "markdown",
      "source": [
        "# **Importação de bibliotecas e pacotes**\n",
        "Em Python, usamos **bibliotecas** (ou **módulos**) para adicionar novas funcionalidades sem precisar reescrever tudo.  \n",
        "Exemplos comuns incluem cálculos matemáticos, geração de números aleatórios e manipulação de dados.\n",
        "\n",
        "---"
      ],
      "metadata": {
        "id": "u7iWu95Jtgvr"
      }
    },
    {
      "cell_type": "markdown",
      "source": [
        "🟦 Código — exemplo com NumPy\n",
        "\n"
      ],
      "metadata": {
        "id": "h5A9U1QU2J64"
      }
    },
    {
      "cell_type": "code",
      "source": [
        "# 🧮 Usando o NumPy (biblioteca para cálculos numéricos)\n",
        "import numpy as np\n",
        "\n",
        "# Documentação oficial:\n",
        "# https://numpy.org/doc/stable/user/whatisnumpy.html\n"
      ],
      "metadata": {
        "id": "aDSkH6wduFgI"
      },
      "execution_count": 50,
      "outputs": []
    },
    {
      "cell_type": "markdown",
      "source": [
        "## 🔢 Biblioteca `math`\n",
        "\n",
        "O módulo `math` contém funções matemáticas como:\n",
        "\n",
        "- `sqrt(x)` → raiz quadrada  \n",
        "- `factorial(x)` → fatorial  \n",
        "- `ceil(x)` → arredonda para cima  \n",
        "- `floor(x)` → arredonda para baixo  \n",
        "\n",
        "Antes de usá-lo, é preciso importá-lo.  \n",
        "O acontece se `sqrt()` sem importar:\n"
      ],
      "metadata": {
        "id": "RcKBq8Kt4OCY"
      }
    },
    {
      "cell_type": "code",
      "source": [
        "# raiz_quadrada = sqrt(25)  # ❌ NameError: name 'sqrt' is not defined"
      ],
      "metadata": {
        "id": "dvHr65s84biY"
      },
      "execution_count": 51,
      "outputs": []
    },
    {
      "cell_type": "markdown",
      "source": [
        "Agora sim, vamos importar o módulo `math` e usar suas funções.\n"
      ],
      "metadata": {
        "id": "yuYl2dWI4yTg"
      }
    },
    {
      "cell_type": "code",
      "source": [
        "import math\n",
        "\n",
        "# Documentação oficial:\n",
        "# https://docs.python.org/3/library/math.html\n",
        "\n",
        "n = 18\n",
        "raiz = math.sqrt(n)\n",
        "print(f\"A raiz de {n} é igual a {raiz:.2f}\")\n",
        "\n",
        "# Também é possível calcular a raiz quadrada usando ** (potenciação)\n",
        "raiz2 = n ** 0.5\n",
        "print(f\"A raiz quadrada de {n} (usando **) é {raiz2:.2f}\")\n"
      ],
      "metadata": {
        "colab": {
          "base_uri": "https://localhost:8080/"
        },
        "id": "AWnXxx_4v2Ku",
        "outputId": "224953c3-c5cd-4568-a56e-6fcd9471bd81"
      },
      "execution_count": 52,
      "outputs": [
        {
          "output_type": "stream",
          "name": "stdout",
          "text": [
            "A raiz de 18 é igual a 4.24\n",
            "A raiz quadrada de 18 (usando **) é 4.24\n"
          ]
        }
      ]
    },
    {
      "cell_type": "markdown",
      "source": [
        "## ✂️ Importando funções específicas\n",
        "\n",
        "Podemos importar apenas funções desejadas de um módulo, o que torna o código mais limpo.\n"
      ],
      "metadata": {
        "id": "pMzY3Cal5LHt"
      }
    },
    {
      "cell_type": "code",
      "source": [
        "from math import sqrt\n",
        "\n",
        "r2 = sqrt(18)\n",
        "print(f\"{r2:.2f}\")\n",
        "\n",
        "# Também é possível importar várias funções ao mesmo tempo:\n",
        "from math import sqrt, factorial\n",
        "\n",
        "fact = factorial(5)  # fatorial de 5 = 5×4×3×2×1\n",
        "print(f\"5! = {fact}\")\n"
      ],
      "metadata": {
        "colab": {
          "base_uri": "https://localhost:8080/"
        },
        "id": "OEkfqhSIxqMp",
        "outputId": "f173fa22-cb59-4c03-dedc-6a8feec34e90"
      },
      "execution_count": 53,
      "outputs": [
        {
          "output_type": "stream",
          "name": "stdout",
          "text": [
            "4.24\n",
            "5! = 120\n"
          ]
        }
      ]
    },
    {
      "cell_type": "markdown",
      "source": [
        "## 🎲 Gerando números aleatórios\n",
        "\n",
        "O módulo `random` permite gerar números aleatórios, úteis em simulações e testes.\n"
      ],
      "metadata": {
        "id": "vwLKoqp-5jHi"
      }
    },
    {
      "cell_type": "code",
      "source": [
        "from random import random, randint\n",
        "\n",
        "# random() → número aleatório entre 0 e 1\n",
        "print(f\"Número aleatório (0 a 1): {random()}\")\n",
        "\n",
        "# randint(a, b) → número inteiro aleatório entre a e b\n",
        "print(f\"Número inteiro aleatório entre 1 e 10: {randint(1, 10)}\")"
      ],
      "metadata": {
        "colab": {
          "base_uri": "https://localhost:8080/"
        },
        "id": "1fi0CvVjzIZx",
        "outputId": "7e635f7d-7571-474d-acd9-db35d6767436"
      },
      "execution_count": 54,
      "outputs": [
        {
          "output_type": "stream",
          "name": "stdout",
          "text": [
            "Número aleatório (0 a 1): 0.7876602772046092\n",
            "Número inteiro aleatório entre 1 e 10: 10\n"
          ]
        }
      ]
    },
    {
      "cell_type": "markdown",
      "source": [
        "## 🧭 Acessando ajuda e documentação\n",
        "\n",
        "No **Google Colab** ou **Jupyter Notebook**, você pode visualizar a documentação diretamente:\n",
        "\n",
        "```python\n",
        "random?\n",
        "randint?\n"
      ],
      "metadata": {
        "id": "fKBOBM0z0mnA"
      }
    },
    {
      "cell_type": "code",
      "source": [
        "random?"
      ],
      "metadata": {
        "id": "sf_xiSwE0HKL"
      },
      "execution_count": 55,
      "outputs": []
    },
    {
      "cell_type": "markdown",
      "source": [
        "Ou ainda usar a função help():"
      ],
      "metadata": {
        "id": "tpesYP5453Fn"
      }
    },
    {
      "cell_type": "code",
      "source": [
        "help(randint)"
      ],
      "metadata": {
        "colab": {
          "base_uri": "https://localhost:8080/"
        },
        "id": "XKBGcBqU0I3E",
        "outputId": "754ba44c-1e55-4904-a1d5-ff94e72e440f"
      },
      "execution_count": 56,
      "outputs": [
        {
          "output_type": "stream",
          "name": "stdout",
          "text": [
            "Help on method randint in module random:\n",
            "\n",
            "randint(a, b) method of random.Random instance\n",
            "    Return random integer in range [a, b], including both end points.\n",
            "\n"
          ]
        }
      ]
    },
    {
      "cell_type": "markdown",
      "source": [
        "##💡 Resumo:\n",
        "\n",
        "Use import nome_modulo para importar tudo.\n",
        "\n",
        "Use from modulo import função para importar apenas partes específicas.\n",
        "\n",
        "Consulte sempre a documentação oficial dos módulos que usar."
      ],
      "metadata": {
        "id": "ZzSpwKJl6E8r"
      }
    },
    {
      "cell_type": "markdown",
      "source": [
        "# ⚙️ Estruturas Condicionais (`if`, `elif`, `else`)\n",
        "\n",
        "As **estruturas condicionais** permitem que o programa tome decisões com base em uma condição.\n",
        "\n",
        "A ideia é simples:  \n",
        "> “Se (if) uma condição for verdadeira, faça algo. Caso contrário (else), faça outra coisa.”\n",
        "\n",
        "Python também possui o `elif` (*else if*), usado quando há mais de uma condição a testar.\n",
        "\n",
        "---"
      ],
      "metadata": {
        "id": "T0xxPj_o62VG"
      }
    },
    {
      "cell_type": "markdown",
      "source": [
        "### 💡 Sintaxe básica\n",
        "\n",
        "```python\n",
        "if condição:\n",
        "    # bloco executado se a condição for verdadeira\n",
        "elif outra_condição:\n",
        "    # executado se a primeira for falsa e esta for verdadeira\n",
        "else:\n",
        "    # executado se todas as anteriores forem falsas"
      ],
      "metadata": {
        "id": "oWWWHz0483D-"
      }
    },
    {
      "cell_type": "code",
      "source": [
        "\n",
        "### 🟦 **Código — exemplo simples com if/else**\n",
        "\n",
        "# Exemplo básico\n",
        "nota = 5.5\n",
        "\n",
        "if nota >= 6:\n",
        "    print('Aprovado')\n",
        "else:\n",
        "    print('Reprovado')\n"
      ],
      "metadata": {
        "colab": {
          "base_uri": "https://localhost:8080/"
        },
        "id": "c4Y7a7j6687N",
        "outputId": "3f761240-b3e3-448b-f065-c3a6e82cb79d"
      },
      "execution_count": 60,
      "outputs": [
        {
          "output_type": "stream",
          "name": "stdout",
          "text": [
            "Reprovado\n"
          ]
        }
      ]
    },
    {
      "cell_type": "markdown",
      "source": [
        "📘 **Explicação:**\n",
        "- O programa verifica se `nota` é maior ou igual a 6.  \n",
        "- Se for, exibe “Aprovado”.  \n",
        "- Caso contrário, exibe “Reprovado”.\n",
        "\n",
        "No exemplo acima, a nota é 5.5 → portanto, o resultado será:\n",
        "> Reprovado\n"
      ],
      "metadata": {
        "id": "COOEPN5Y9Xm9"
      }
    },
    {
      "cell_type": "code",
      "source": [
        "# 🟦 Código — exemplo com elif\n",
        "nota = 5.5\n",
        "\n",
        "if nota >= 6:\n",
        "    print('Aprovado')\n",
        "elif nota >= 5:\n",
        "    print('Recuperação')\n",
        "else:\n",
        "    print('Reprovado')\n"
      ],
      "metadata": {
        "colab": {
          "base_uri": "https://localhost:8080/"
        },
        "id": "m5UB89Zd7tuq",
        "outputId": "14ec6f76-9a09-437c-8bd1-32ab1de92041"
      },
      "execution_count": 59,
      "outputs": [
        {
          "output_type": "stream",
          "name": "stdout",
          "text": [
            "Recuperação\n"
          ]
        }
      ]
    },
    {
      "cell_type": "markdown",
      "source": [
        "📗 **Explicação:**\n",
        "- Se a nota for **6 ou mais**, o aluno é **Aprovado**.  \n",
        "- Se for **entre 5 e 6**, entra em **Recuperação**.  \n",
        "- Se for **menor que 5**, é **Reprovado**.\n",
        "\n",
        "💡 Repare que o `elif` só é avaliado **se o `if` for falso**.  \n",
        "Ou seja, o Python verifica as condições **de cima para baixo** e **para na primeira verdadeira**.\n"
      ],
      "metadata": {
        "id": "VL44-Yd79wni"
      }
    },
    {
      "cell_type": "markdown",
      "source": [
        "## 🧩 Exemplos extras\n",
        "Você pode combinar condições usando os operadores lógicos `and`, `or` e `not`:\n"
      ],
      "metadata": {
        "id": "mh0Fk0ai-Spt"
      }
    },
    {
      "cell_type": "code",
      "source": [
        "idade = 20\n",
        "possui_carteira = True\n",
        "\n",
        "if idade >= 18 and possui_carteira:\n",
        "    print(\"Pode dirigir\")\n",
        "else:\n",
        "    print(\"Não pode dirigir\")"
      ],
      "metadata": {
        "id": "xqOe3k2q-aGt"
      },
      "execution_count": null,
      "outputs": []
    },
    {
      "cell_type": "markdown",
      "source": [
        "Também é possivel usar comparações encadeadas:"
      ],
      "metadata": {
        "id": "eUdDzU8V-e-V"
      }
    },
    {
      "cell_type": "code",
      "source": [
        "nota = 7\n",
        "if 6 <= nota <= 10:\n",
        "    print(\"Aprovado com boa nota!\")\n"
      ],
      "metadata": {
        "colab": {
          "base_uri": "https://localhost:8080/"
        },
        "id": "0pYEgEi--mEX",
        "outputId": "63e4f8f0-b83f-4004-fdb9-f3e82c385023"
      },
      "execution_count": 61,
      "outputs": [
        {
          "output_type": "stream",
          "name": "stdout",
          "text": [
            "Aprovado com boa nota!\n"
          ]
        }
      ]
    },
    {
      "cell_type": "markdown",
      "source": [
        "# 🔁 Estruturas de Repetição (for e while)\n",
        "\n",
        "Em Python, usamos estruturas de repetição para executar blocos de código **várias vezes**.  \n",
        "São muito úteis para **percorrer listas**, **gerar sequências** ou **repetir ações até que uma condição seja satisfeita**.\n",
        "\n",
        "Existem duas principais estruturas de repetição:\n",
        "- `for`: quando sabemos **quantas vezes** o laço deve repetir.\n",
        "- `while`: quando a repetição depende de uma **condição lógica**.\n"
      ],
      "metadata": {
        "id": "HlyyBB46_RI1"
      }
    },
    {
      "cell_type": "code",
      "source": [
        "# ======================================================\n",
        "# 🧮 Estrutura \"for\"\n",
        "# ======================================================\n",
        "# O \"for\" é usado quando sabemos o número de repetições.\n",
        "\n",
        "# Exemplo 1: range(início, fim)\n",
        "for c in range(0, 4):\n",
        "    print(c)\n"
      ],
      "metadata": {
        "colab": {
          "base_uri": "https://localhost:8080/"
        },
        "id": "2gj7IXFd_Zij",
        "outputId": "83d1b473-8f6b-4487-d3f4-fa594b2b7f89"
      },
      "execution_count": 62,
      "outputs": [
        {
          "output_type": "stream",
          "name": "stdout",
          "text": [
            "0\n",
            "1\n",
            "2\n",
            "3\n"
          ]
        }
      ]
    },
    {
      "cell_type": "markdown",
      "source": [
        "O comando `range(0, 4)` gera uma sequência de números de **0 até 3**.  \n",
        "O número final (4) **não é incluído**."
      ],
      "metadata": {
        "id": "JKLPkVc4EZe0"
      }
    },
    {
      "cell_type": "code",
      "source": [
        "# ======================================================\n",
        "# 📋 Percorrendo listas com for\n",
        "# ======================================================\n",
        "lista = [1, 2, 3, 4, 10]\n",
        "\n",
        "for num in lista:\n",
        "    print(num * 2)"
      ],
      "metadata": {
        "colab": {
          "base_uri": "https://localhost:8080/"
        },
        "id": "mKjW-n1F_6_U",
        "outputId": "f152197c-6216-444e-82fb-546c801e6e29"
      },
      "execution_count": 64,
      "outputs": [
        {
          "output_type": "stream",
          "name": "stdout",
          "text": [
            "2\n",
            "4\n",
            "6\n",
            "8\n",
            "20\n"
          ]
        }
      ]
    },
    {
      "cell_type": "markdown",
      "source": [
        "No exemplo acima o laço percorre a lista `lista` e multiplica cada número por 2.\n"
      ],
      "metadata": {
        "id": "z7JyJ-P5E8LK"
      }
    },
    {
      "cell_type": "code",
      "source": [
        "soma = 0\n",
        "cont = 0\n",
        "\n",
        "for c in range(1,6):\n",
        "  num = int(input(f\"Digite o {c}° valor\"))\n",
        "  if num % 2 == 0:\n",
        "    soma += num\n",
        "    cont += 1\n",
        "\n",
        "print(f\"Voce digitou {cont} numeros pares e a soma deles é igual a {soma}\")"
      ],
      "metadata": {
        "colab": {
          "base_uri": "https://localhost:8080/"
        },
        "id": "HsnHMfr-AFwI",
        "outputId": "5def692f-13ad-4609-88ab-e620e43e57ee"
      },
      "execution_count": 66,
      "outputs": [
        {
          "output_type": "stream",
          "name": "stdout",
          "text": [
            "Digite o 1° valor1\n",
            "Digite o 2° valor2\n",
            "Digite o 3° valor3\n",
            "Digite o 4° valor4\n",
            "Digite o 5° valor5\n",
            "Voce digitou 2 numeros pares e a soma deles é igual a 6\n"
          ]
        }
      ]
    },
    {
      "cell_type": "markdown",
      "source": [
        "💡 Nesse exemplo, o programa:\n",
        "1. Solicita 5 números ao usuário.\n",
        "2. Verifica se cada número é **par**.\n",
        "3. Soma apenas os pares e conta quantos foram digitados."
      ],
      "metadata": {
        "id": "-K7j4zq6FKSw"
      }
    },
    {
      "cell_type": "code",
      "source": [
        "# ======================================================\n",
        "# 🔄 Estrutura \"while\"\n",
        "# ======================================================\n",
        "# O \"while\" é usado quando não sabemos quantas repetições serão necessárias.\n",
        "# Ele continua executando enquanto a condição for verdadeira.\n",
        "\n",
        "resposta = \"\"\n",
        "while resposta.lower() != \"sair\":\n",
        "    resposta = input(\"Digite algo (ou 'sair' para encerrar): \")\n",
        "    print(f\"Você digitou: {resposta}\")"
      ],
      "metadata": {
        "colab": {
          "base_uri": "https://localhost:8080/"
        },
        "id": "mAFmkG-IB1jY",
        "outputId": "172e4ed1-d2f3-44f1-e255-42da73c9f55e"
      },
      "execution_count": 70,
      "outputs": [
        {
          "output_type": "stream",
          "name": "stdout",
          "text": [
            "Digite algo (ou 'sair' para encerrar): a\n",
            "Você digitou: a\n",
            "Digite algo (ou 'sair' para encerrar): sair\n",
            "Você digitou: sair\n"
          ]
        }
      ]
    },
    {
      "cell_type": "markdown",
      "source": [
        "💡 Nesse exemplo, o programa:\n",
        "\n",
        "Printa na tela o que o usuario digitou até que a palavra **sair** seja digitada"
      ],
      "metadata": {
        "id": "_Cb1V3QIGO1F"
      }
    },
    {
      "cell_type": "markdown",
      "source": [
        "# 📘 Listas, Tuplas e Dicionários\n",
        "\n",
        "As estruturas de dados são formas de armazenar e organizar informações em Python.\n",
        "As principais são:\n",
        "\n",
        "Listas → mutáveis (podem ser alteradas)\n",
        "\n",
        "Tuplas → imutáveis (não podem ser alteradas)"
      ],
      "metadata": {
        "id": "jkyNBSDLKHd_"
      }
    },
    {
      "cell_type": "markdown",
      "source": [
        "## 🧱 LISTAS ([ ])\n",
        "\n",
        "Listas permitem armazenar vários valores em uma única variável.\n",
        "Você pode adicionar, remover e ordenar elementos facilmente."
      ],
      "metadata": {
        "id": "x5bXb_a-KNDj"
      }
    },
    {
      "cell_type": "code",
      "source": [
        "# Criando uma lista\n",
        "num = [2, 5, 7, 9]\n",
        "print(num)\n",
        "\n",
        "# Alterando um elemento (posição 3)\n",
        "num[3] = 4\n",
        "print(num)\n"
      ],
      "metadata": {
        "colab": {
          "base_uri": "https://localhost:8080/"
        },
        "id": "QEWuFdMUCla1",
        "outputId": "840b5c05-74c0-42cf-c5da-ce8aee704c4d"
      },
      "execution_count": 71,
      "outputs": [
        {
          "output_type": "stream",
          "name": "stdout",
          "text": [
            "[2, 5, 7, 9]\n",
            "[2, 5, 7, 4]\n"
          ]
        }
      ]
    },
    {
      "cell_type": "code",
      "source": [
        "# Adicionando elementos\n",
        "num.append(8)   # inclui o número 8 no final\n",
        "print(num)\n",
        "\n",
        "# Ordenando em ordem crescente\n",
        "num.sort()\n",
        "print(num)\n"
      ],
      "metadata": {
        "colab": {
          "base_uri": "https://localhost:8080/"
        },
        "id": "tn9Xax8mKbFs",
        "outputId": "e055761e-9c0a-4abd-be1a-1d81364adb54"
      },
      "execution_count": 72,
      "outputs": [
        {
          "output_type": "stream",
          "name": "stdout",
          "text": [
            "[2, 5, 7, 4, 8]\n",
            "[2, 4, 5, 7, 8]\n"
          ]
        }
      ]
    },
    {
      "cell_type": "code",
      "source": [
        "# Inserindo um valor em uma posição específica\n",
        "num.insert(2, 0)  # adiciona o 0 na posição 2\n",
        "print(num)\n"
      ],
      "metadata": {
        "colab": {
          "base_uri": "https://localhost:8080/"
        },
        "id": "y0YwBjYzKfhk",
        "outputId": "9528944b-24c2-4af7-8788-56e131324158"
      },
      "execution_count": 73,
      "outputs": [
        {
          "output_type": "stream",
          "name": "stdout",
          "text": [
            "[2, 4, 0, 5, 7, 8]\n"
          ]
        }
      ]
    },
    {
      "cell_type": "code",
      "source": [
        "# Removendo elementos\n",
        "num.remove(7)  # remove o elemento \"7\"\n",
        "print(num)\n",
        "\n",
        "num.pop(3)     # remove o elemento da posição 3\n",
        "print(num)\n",
        "\n",
        "# Removendo um intervalo\n",
        "del(num[0:2])\n",
        "print(num)\n"
      ],
      "metadata": {
        "colab": {
          "base_uri": "https://localhost:8080/"
        },
        "id": "Y-QFWY22Koxu",
        "outputId": "7bf9b8d4-e078-416a-defd-d2bfebae45e6"
      },
      "execution_count": 74,
      "outputs": [
        {
          "output_type": "stream",
          "name": "stdout",
          "text": [
            "[2, 4, 0, 5, 8]\n",
            "[2, 4, 0, 8]\n",
            "[0, 8]\n"
          ]
        }
      ]
    },
    {
      "cell_type": "markdown",
      "source": [
        "## 🔒 TUPLAS (( ))\n",
        "\n",
        "As tuplas são parecidas com listas, mas não podem ser modificadas\n",
        "(depois de criadas, seus valores são fixos)."
      ],
      "metadata": {
        "id": "i4X3h0o5KxcB"
      }
    },
    {
      "cell_type": "code",
      "source": [
        "num2 = (2, 5, 7, 9)\n",
        "print(num2)\n"
      ],
      "metadata": {
        "colab": {
          "base_uri": "https://localhost:8080/"
        },
        "id": "-IH4E5HCKssk",
        "outputId": "a57d0309-c688-4a4b-83b0-9227196563e2"
      },
      "execution_count": 75,
      "outputs": [
        {
          "output_type": "stream",
          "name": "stdout",
          "text": [
            "(2, 5, 7, 9)\n"
          ]
        }
      ]
    },
    {
      "cell_type": "code",
      "source": [
        "# Tentando alterar ou adicionar algo gera erro:\n",
        "# num2[3] = 4\n",
        "# num2.append(8)\n",
        "# ❌ TypeError: 'tuple' object does not support item assignment\n"
      ],
      "metadata": {
        "colab": {
          "base_uri": "https://localhost:8080/",
          "height": 106
        },
        "id": "W7R_9gztK3T2",
        "outputId": "4b1de210-e701-49b1-b0e2-cc1b301843bb"
      },
      "execution_count": 76,
      "outputs": [
        {
          "output_type": "error",
          "ename": "SyntaxError",
          "evalue": "invalid character '❌' (U+274C) (ipython-input-87214886.py, line 4)",
          "traceback": [
            "\u001b[0;36m  File \u001b[0;32m\"/tmp/ipython-input-87214886.py\"\u001b[0;36m, line \u001b[0;32m4\u001b[0m\n\u001b[0;31m    ❌ TypeError: 'tuple' object does not support item assignment\u001b[0m\n\u001b[0m    ^\u001b[0m\n\u001b[0;31mSyntaxError\u001b[0m\u001b[0;31m:\u001b[0m invalid character '❌' (U+274C)\n"
          ]
        }
      ]
    },
    {
      "cell_type": "markdown",
      "source": [
        "💡 Tuplas são úteis para dados fixos, como coordenadas ou meses do ano."
      ],
      "metadata": {
        "id": "7CIGMiDrK-3w"
      }
    },
    {
      "cell_type": "markdown",
      "source": [
        "## 🗂️ DICIONÁRIOS ({ })\n",
        "\n",
        "Dicionários armazenam pares de chave e valor.\n",
        "Cada item tem um nome (chave) e um conteúdo (valor)."
      ],
      "metadata": {
        "id": "tG-o88jIK_7n"
      }
    },
    {
      "cell_type": "code",
      "source": [
        "pessoas = {'nome': 'Luciano', 'sexo': 'masculino', 'idade': 46}\n",
        "print(pessoas)\n"
      ],
      "metadata": {
        "colab": {
          "base_uri": "https://localhost:8080/"
        },
        "id": "zMnIr48lK66E",
        "outputId": "16079bf0-02d8-4d3c-af95-272517cc0208"
      },
      "execution_count": 77,
      "outputs": [
        {
          "output_type": "stream",
          "name": "stdout",
          "text": [
            "{'nome': 'Luciano', 'sexo': 'masculino', 'idade': 46}\n"
          ]
        }
      ]
    },
    {
      "cell_type": "code",
      "source": [
        "# Acessando valores\n",
        "print(pessoas['nome'])\n",
        "print(pessoas['idade'])\n"
      ],
      "metadata": {
        "colab": {
          "base_uri": "https://localhost:8080/"
        },
        "id": "BZOxA-lKLFHF",
        "outputId": "88e47fc9-ecf6-4962-9b15-d9dd692a01b3"
      },
      "execution_count": 78,
      "outputs": [
        {
          "output_type": "stream",
          "name": "stdout",
          "text": [
            "Luciano\n",
            "46\n"
          ]
        }
      ]
    },
    {
      "cell_type": "code",
      "source": [
        "# Adicionando novos pares\n",
        "pessoas['time'] = 'Corinthians'\n",
        "print(pessoas)\n"
      ],
      "metadata": {
        "colab": {
          "base_uri": "https://localhost:8080/"
        },
        "id": "5VzktD0bLGyn",
        "outputId": "0967e452-b5d8-46e2-9f61-a637ba6965dc"
      },
      "execution_count": 79,
      "outputs": [
        {
          "output_type": "stream",
          "name": "stdout",
          "text": [
            "{'nome': 'Luciano', 'sexo': 'masculino', 'idade': 46, 'time': 'Corinthians'}\n"
          ]
        }
      ]
    },
    {
      "cell_type": "code",
      "source": [
        "# Removendo um item\n",
        "del pessoas['idade']\n",
        "print(pessoas)\n"
      ],
      "metadata": {
        "colab": {
          "base_uri": "https://localhost:8080/"
        },
        "id": "ecoCpJ0ILJv5",
        "outputId": "4de27ef1-7c46-4bc3-9b5e-74a097500d3e"
      },
      "execution_count": 80,
      "outputs": [
        {
          "output_type": "stream",
          "name": "stdout",
          "text": [
            "{'nome': 'Luciano', 'sexo': 'masculino', 'time': 'Corinthians'}\n"
          ]
        }
      ]
    },
    {
      "cell_type": "markdown",
      "source": [
        "## 💡 Resumo prático\n",
        "| Estrutura  | Símbolo | Mutável?   | Exemplo              |\n",
        "| ---------- | --------- | -------- | -------------------- |\n",
        "| Lista      | `[ ]`   | ✅ Sim    | `[1, 2, 3]`          |\n",
        "| Tupla      | `( )`   | ❌ Não    | `(1, 2, 3)`          |\n",
        "| Dicionário | `{ }`   | ✅ Sim    | `{'chave': 'valor'}` |\n"
      ],
      "metadata": {
        "id": "qMN4_8pALSts"
      }
    },
    {
      "cell_type": "markdown",
      "source": [
        "# ⚙️ Funções\n",
        "\n",
        "Funções são blocos de código reutilizáveis criados para executar uma tarefa específica.\n",
        "Elas ajudam a organizar o código, evitar repetições e facilitar a manutenção."
      ],
      "metadata": {
        "id": "P7P9Zh64NSAz"
      }
    },
    {
      "cell_type": "markdown",
      "source": [
        "## 🧩 Criando e chamando uma função\n",
        "\n",
        "Usamos a palavra-chave def para definir uma função."
      ],
      "metadata": {
        "id": "z_mT5vANNTxf"
      }
    },
    {
      "cell_type": "code",
      "source": [
        "# Definindo uma função simples\n",
        "def identificacao(nome, idade):\n",
        "    print(f\"Olá, {nome}!\")\n",
        "    print(f\"Você é jovem, tem apenas {idade} anos.\")\n",
        "\n",
        "# Chamando a função\n",
        "identificacao('Luciano', 46)\n"
      ],
      "metadata": {
        "colab": {
          "base_uri": "https://localhost:8080/"
        },
        "id": "poF-oxg8NcM0",
        "outputId": "79f37adb-1251-404c-ba23-a479356ea40b"
      },
      "execution_count": 81,
      "outputs": [
        {
          "output_type": "stream",
          "name": "stdout",
          "text": [
            "Olá, Luciano!\n",
            "Você é jovem, tem apenas 46 anos.\n"
          ]
        }
      ]
    },
    {
      "cell_type": "markdown",
      "source": [
        "📘 Explicação:\n",
        "\n",
        "def inicia a definição da função.\n",
        "\n",
        "nome e idade são parâmetros (valores que a função recebe).\n",
        "\n",
        "O conteúdo indentado (com espaço) é o corpo da função."
      ],
      "metadata": {
        "id": "a3bOQIOLNeyx"
      }
    },
    {
      "cell_type": "markdown",
      "source": [
        "## 🔢 Função com condição (if, elif, else)\n",
        "\n",
        "Podemos incluir lógica condicional dentro das funções."
      ],
      "metadata": {
        "id": "NrwB7rElNpRb"
      }
    },
    {
      "cell_type": "code",
      "source": [
        "def maior(x, y):\n",
        "    if x < y:\n",
        "        print(f\"O maior número é {y}\")\n",
        "    elif x == y:\n",
        "        print(\"Os números são iguais\")\n",
        "    else:\n",
        "        print(f\"O maior número é {x}\")\n",
        "\n",
        "# Chamando a função\n",
        "maior(11, 16)\n"
      ],
      "metadata": {
        "colab": {
          "base_uri": "https://localhost:8080/"
        },
        "id": "5JwJmcUQNdS9",
        "outputId": "b6b6c466-8a4a-46fa-c1a1-837f777e8897"
      },
      "execution_count": 82,
      "outputs": [
        {
          "output_type": "stream",
          "name": "stdout",
          "text": [
            "O maior número é 16\n"
          ]
        }
      ]
    },
    {
      "cell_type": "markdown",
      "source": [
        "💡 Dica: <br>\n",
        "Também poderíamos fazer essa função retornar o valor em vez de apenas imprimir:"
      ],
      "metadata": {
        "id": "rBMOcdayN1K2"
      }
    },
    {
      "cell_type": "code",
      "source": [
        "def maior_valor(x, y):\n",
        "    if x >= y:\n",
        "        return x\n",
        "    return y\n",
        "\n",
        "print(f\"O maior valor é {maior_valor(11, 16)}\")\n"
      ],
      "metadata": {
        "colab": {
          "base_uri": "https://localhost:8080/"
        },
        "id": "CxPgPR8oNwYu",
        "outputId": "ad202cde-013a-461d-eb78-013f5c6ef497"
      },
      "execution_count": 83,
      "outputs": [
        {
          "output_type": "stream",
          "name": "stdout",
          "text": [
            "O maior valor é 16\n"
          ]
        }
      ]
    },
    {
      "cell_type": "markdown",
      "source": [
        "## 📐 Exemplo prático — Teorema de Pitágoras\n",
        "\n",
        "Uma função pode receber diferentes parâmetros e aplicar fórmulas matemáticas."
      ],
      "metadata": {
        "id": "7t0enyqsOF8U"
      }
    },
    {
      "cell_type": "code",
      "source": [
        "def pitagoras(cat1, cat2, hip):\n",
        "    \"\"\"Calcula o cateto ou a hipotenusa, dependendo de qual valor for '?'.\"\"\"\n",
        "    if hip == '?':\n",
        "        hip = (cat1**2 + cat2**2) ** 0.5\n",
        "        print(f\"A hipotenusa é {hip:.2f}\")\n",
        "    elif cat1 == '?':\n",
        "        cat1 = (hip**2 - cat2**2) ** 0.5\n",
        "        print(f\"O cateto é {cat1:.2f}\")\n",
        "    elif cat2 == '?':\n",
        "        cat2 = (hip**2 - cat1**2) ** 0.5\n",
        "        print(f\"O cateto é {cat2:.2f}\")\n",
        "\n",
        "# Exemplo de uso:\n",
        "pitagoras(13, 5, '?')\n"
      ],
      "metadata": {
        "colab": {
          "base_uri": "https://localhost:8080/"
        },
        "id": "xnWmZZKzOB6J",
        "outputId": "5d29819a-492e-425f-b456-1304ad58c6c8"
      },
      "execution_count": 84,
      "outputs": [
        {
          "output_type": "stream",
          "name": "stdout",
          "text": [
            "A hipotenusa é 13.93\n"
          ]
        }
      ]
    },
    {
      "cell_type": "markdown",
      "source": [
        "💡 Observações:\n",
        "\n",
        "A função pitagoras() identifica qual lado falta ('?') e o calcula.\n",
        "\n",
        "Poderia ser melhorada para retornar o resultado em vez de apenas imprimir — isso facilita o reuso."
      ],
      "metadata": {
        "id": "bFtgKQ38OO-t"
      }
    },
    {
      "cell_type": "markdown",
      "source": [
        "## 🔁 Resumo prático\n",
        "| Conceito  | Descrição                   | Exemplo                        |\n",
        "| --------- | --------------------------- | ------------------------------ |\n",
        "| `def`     | Define uma nova função      | `def soma(a, b): return a + b` |\n",
        "| `return`  | Envia o resultado da função | `return resultado`             |\n",
        "| Parâmetro | Valor recebido pela função  | `nome`, `idade`                |\n",
        "| Chamada   | Execução da função          | `identificacao('Ana', 22)`     |\n"
      ],
      "metadata": {
        "id": "hCjtjeUzOVKk"
      }
    },
    {
      "cell_type": "markdown",
      "source": [
        "# ⚡ Funções lambda e map\n",
        "\n",
        "**Funções lambda** são funções **anônimas** ou **simplificadas**, usadas para **tarefas rápidas** sem precisar definir uma função completa com `def`.\n",
        "\n",
        "- Sintaxe: `lambda parâmetros: expressão`\n",
        "- Retorna automaticamente o resultado da expressão.\n",
        "- Útil quando queremos **passar uma função como argumento** para outro método, como `map()`.\n"
      ],
      "metadata": {
        "id": "Y5ur846fQSVc"
      }
    },
    {
      "cell_type": "markdown",
      "source": [
        "## Exemplos simples de lambda"
      ],
      "metadata": {
        "id": "R7PWe34RQ27Y"
      }
    },
    {
      "cell_type": "code",
      "source": [
        "# Função normal usando def\n",
        "def area_quadrado(L):\n",
        "    area = L**2\n",
        "    print(area)\n",
        "\n",
        "area_quadrado(4)  # Saída: 16\n"
      ],
      "metadata": {
        "colab": {
          "base_uri": "https://localhost:8080/"
        },
        "id": "e6ZW69ioQ5j1",
        "outputId": "947c1316-5248-4ce6-ac3a-40260c52ccfd"
      },
      "execution_count": 85,
      "outputs": [
        {
          "output_type": "stream",
          "name": "stdout",
          "text": [
            "16\n"
          ]
        }
      ]
    },
    {
      "cell_type": "code",
      "source": [
        "# Mesma função, mas com lambda\n",
        "area_quadrado2 = lambda x: x**2\n",
        "print(area_quadrado2(7))  # Saída: 49\n"
      ],
      "metadata": {
        "colab": {
          "base_uri": "https://localhost:8080/"
        },
        "id": "g83Bz0ztOJqw",
        "outputId": "787e14ea-25d4-40c8-fd5e-1cbb4240c68f"
      },
      "execution_count": 86,
      "outputs": [
        {
          "output_type": "stream",
          "name": "stdout",
          "text": [
            "49\n"
          ]
        }
      ]
    },
    {
      "cell_type": "code",
      "source": [
        "# Lambda com múltiplos parâmetros\n",
        "area_retangulo = lambda b, h: b * h\n",
        "print(area_retangulo(4, 7))  # Saída: 28\n"
      ],
      "metadata": {
        "colab": {
          "base_uri": "https://localhost:8080/"
        },
        "id": "yWfNb2nuQ_fr",
        "outputId": "3cd172ad-422e-4ef7-9c64-a4e61aac25b1"
      },
      "execution_count": 87,
      "outputs": [
        {
          "output_type": "stream",
          "name": "stdout",
          "text": [
            "28\n"
          ]
        }
      ]
    },
    {
      "cell_type": "markdown",
      "source": [
        "## Combinando lambda com map()\n",
        "O método `map()` aplica uma função a **cada elemento de uma lista**.  \n",
        "Combinando com lambda, podemos realizar operações rápidas **sem precisar criar uma função completa**.\n",
        "\n",
        "Sintaxe básica:\n",
        "```python\n",
        "map(função, lista)\n",
        "```\n",
        "\n",
        "O resultado de map() é um iterável, que pode ser convertido em lista usando list()."
      ],
      "metadata": {
        "id": "GW3OSPJMRJf2"
      }
    },
    {
      "cell_type": "code",
      "source": [
        "# exemplo com map()**\n",
        "\n",
        "L = [4, 5, 6, 7, 11, 9, 10]\n",
        "\n",
        "# Calculando a área de quadrados para cada lado da lista\n",
        "areas = list(map(lambda x: x**2, L))\n",
        "print(areas)\n",
        "# Saída esperada: [16, 25, 36, 49, 121, 81, 100]\n"
      ],
      "metadata": {
        "colab": {
          "base_uri": "https://localhost:8080/"
        },
        "id": "oIGAXZ8mRChB",
        "outputId": "1201e23b-f267-4503-9d43-3fad8ab7f9b4"
      },
      "execution_count": 88,
      "outputs": [
        {
          "output_type": "stream",
          "name": "stdout",
          "text": [
            "[16, 25, 36, 49, 121, 81, 100]\n"
          ]
        }
      ]
    },
    {
      "cell_type": "markdown",
      "source": [
        "## 💡 Resumo rápido\n",
        "| Conceito      | Descrição                                             | Exemplo                                |\n",
        "| ------------- | ----------------------------------------------------- | -------------------------------------- |\n",
        "| lambda        | Função anônima de uma linha                           | `lambda x: x**2`                       |\n",
        "| map()         | Aplica uma função a todos os elementos de um iterável | `list(map(lambda x: x**2, L))`         |\n",
        "| Uso combinado | Útil para cálculos rápidos em listas                  | `areas = list(map(lambda x: x**2, L))` |\n"
      ],
      "metadata": {
        "id": "VVlFJg8hRxw2"
      }
    },
    {
      "cell_type": "markdown",
      "source": [
        "# 📝 List Comprehensions\n",
        "\n",
        "**List Comprehensions** são uma forma **compacta e eficiente** de criar listas em Python.  \n",
        "Elas permitem substituir **laços `for` longos** por uma **única linha de código**.\n",
        "\n",
        "Sintaxe básica:\n",
        "```python\n",
        "[nova_expressao for item in iteravel]\n",
        "```\n",
        "Pode incluir condições:\n",
        "```python\n",
        "[nova_expressao for item in iteravel if condicao]\n",
        "```\n",
        "Pode incluir condicional inline:\n",
        "```python\n",
        "[valor_verdadeiro if condicao else valor_falso for item in iteravel]\n",
        "```"
      ],
      "metadata": {
        "id": "gIFtGdmiX8OY"
      }
    },
    {
      "cell_type": "code",
      "source": [
        "# Exemplo clássico: criando uma lista usando for\n",
        "lista = []\n",
        "for valor in range(5):\n",
        "    lista.append(valor + 10)\n",
        "print(lista)\n"
      ],
      "metadata": {
        "id": "ZQs58Xh_X9J8",
        "outputId": "4b614f3a-44b1-4e6a-b4bf-e25a7996b90a",
        "colab": {
          "base_uri": "https://localhost:8080/"
        }
      },
      "execution_count": 89,
      "outputs": [
        {
          "output_type": "stream",
          "name": "stdout",
          "text": [
            "[10, 11, 12, 13, 14]\n"
          ]
        }
      ]
    },
    {
      "cell_type": "code",
      "source": [
        "# Mesma lista usando List Comprehension\n",
        "lista = [valor + 10 for valor in range(5)]\n",
        "print(lista)\n"
      ],
      "metadata": {
        "id": "xxUxYrq2YlNO",
        "outputId": "ea6405ac-ae84-401c-e871-eeaac3435d0c",
        "colab": {
          "base_uri": "https://localhost:8080/"
        }
      },
      "execution_count": 90,
      "outputs": [
        {
          "output_type": "stream",
          "name": "stdout",
          "text": [
            "[10, 11, 12, 13, 14]\n"
          ]
        }
      ]
    },
    {
      "cell_type": "markdown",
      "source": [
        "## Filtrando elementos\n",
        "Também podemos **filtrar elementos** usando uma condição com `if` no final:"
      ],
      "metadata": {
        "id": "Ktwe3dx1Ys1x"
      }
    },
    {
      "cell_type": "code",
      "source": [
        "# Lista de números múltiplos de 4\n",
        "lista = []\n",
        "for numero in range(1, 30):\n",
        "    if numero % 4 == 0:\n",
        "        lista.append(numero)\n",
        "print(lista)\n"
      ],
      "metadata": {
        "id": "7I70iK7LYpaf",
        "outputId": "833723dc-1f39-4435-f720-11f6be22e9aa",
        "colab": {
          "base_uri": "https://localhost:8080/"
        }
      },
      "execution_count": 91,
      "outputs": [
        {
          "output_type": "stream",
          "name": "stdout",
          "text": [
            "[4, 8, 12, 16, 20, 24, 28]\n"
          ]
        }
      ]
    },
    {
      "cell_type": "code",
      "source": [
        "# Mesma operação com List Comprehension\n",
        "multiplos4 = [numero for numero in range(1, 30) if numero % 4 == 0]\n",
        "print(multiplos4)\n"
      ],
      "metadata": {
        "id": "BHa9a0SmY2nJ",
        "outputId": "6fa98f68-a7cd-40dc-f879-5cfdec0547d5",
        "colab": {
          "base_uri": "https://localhost:8080/"
        }
      },
      "execution_count": 92,
      "outputs": [
        {
          "output_type": "stream",
          "name": "stdout",
          "text": [
            "[4, 8, 12, 16, 20, 24, 28]\n"
          ]
        }
      ]
    },
    {
      "cell_type": "markdown",
      "source": [
        "## Condicional inline\n",
        "Também podemos usar **condicionais inline** (`if/else`) dentro da List Comprehension:\n",
        "\n",
        "```python\n",
        "['valor_verdadeiro' if condicao else 'valor_falso' for item in iteravel]\n",
        "```"
      ],
      "metadata": {
        "id": "oUIAsceKZBeZ"
      }
    },
    {
      "cell_type": "code",
      "source": [
        "conceito = ['azul' if nota >= 6 else 'vermelha' for nota in range(1, 11)]\n",
        "print(conceito)"
      ],
      "metadata": {
        "id": "hfFWZagnY6YA",
        "outputId": "655ee65a-57b7-47d5-dd7f-1397801c6808",
        "colab": {
          "base_uri": "https://localhost:8080/"
        }
      },
      "execution_count": 93,
      "outputs": [
        {
          "output_type": "stream",
          "name": "stdout",
          "text": [
            "['vermelha', 'vermelha', 'vermelha', 'vermelha', 'vermelha', 'azul', 'azul', 'azul', 'azul', 'azul']\n"
          ]
        }
      ]
    },
    {
      "cell_type": "markdown",
      "source": [
        "## 💡 Resumo rápido\n",
        "| Tipo de List Comprehension     | Descrição                    | Exemplo                                                 |\n",
        "| ------------------------------ | ---------------------------- | ------------------------------------------------------- |\n",
        "| Básica                         | Substitui `for` simples      | `[x+10 for x in range(5)]`                              |\n",
        "| Com filtro (`if`)              | Seleciona elementos          | `[x for x in range(30) if x%4==0]`                      |\n",
        "| Condicional inline (`if/else`) | Categoriza ou altera valores | `['azul' if n>=6 else 'vermelha' for n in range(1,11)]` |\n"
      ],
      "metadata": {
        "id": "5dPaPw6FZVB4"
      }
    }
  ]
}