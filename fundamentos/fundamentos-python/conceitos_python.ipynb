{
  "nbformat": 4,
  "nbformat_minor": 0,
  "metadata": {
    "colab": {
      "provenance": [],
      "toc_visible": true,
      "include_colab_link": true
    },
    "kernelspec": {
      "name": "python3",
      "display_name": "Python 3"
    },
    "language_info": {
      "name": "python"
    }
  },
  "cells": [
    {
      "cell_type": "markdown",
      "metadata": {
        "id": "view-in-github",
        "colab_type": "text"
      },
      "source": [
        "<a href=\"https://colab.research.google.com/github/gean634n/estatistica-analises-de-regressoes-com-python/blob/main/fundamentos/fundamentos-python/conceitos_python.ipynb\" target=\"_parent\"><img src=\"https://colab.research.google.com/assets/colab-badge.svg\" alt=\"Open In Colab\"/></a>"
      ]
    },
    {
      "cell_type": "markdown",
      "source": [
        "# **Introdução**"
      ],
      "metadata": {
        "id": "MfvomC6Z4N_p"
      }
    },
    {
      "cell_type": "markdown",
      "source": [
        "Python é uma linguagem de rogramação simples e versátil.<br>\n",
        "Aqui vamos ver comandos básicos que usaremos muito na análise de dados."
      ],
      "metadata": {
        "id": "qToBMDPi4VRr"
      }
    },
    {
      "cell_type": "code",
      "source": [
        "# 🖨️ Exibir informações na tela\n",
        "print('Olá mundo!!!') # Saída: Olá mundo!!!"
      ],
      "metadata": {
        "id": "-MbVvHA44dXd",
        "colab": {
          "base_uri": "https://localhost:8080/"
        },
        "outputId": "89167a1f-5e5c-4492-c6f7-c3be0bc9bb20"
      },
      "execution_count": 24,
      "outputs": [
        {
          "output_type": "stream",
          "name": "stdout",
          "text": [
            "Olá mundo!!!\n"
          ]
        }
      ]
    },
    {
      "cell_type": "code",
      "source": [
        "# 📦 Armazenando valores em variáveis\n",
        "message = 'Olá mundo a partir de uma variável'"
      ],
      "metadata": {
        "id": "MFBXwi0e4nR8"
      },
      "execution_count": 25,
      "outputs": []
    },
    {
      "cell_type": "code",
      "source": [
        "# Podemos exibir o conteúdo da variável com print()\n",
        "print(message) # Saída: Olá mundo a partir de uma variável"
      ],
      "metadata": {
        "id": "pof5Mxts5Dwq",
        "colab": {
          "base_uri": "https://localhost:8080/"
        },
        "outputId": "053ecfff-f274-413c-a35b-65a09aee72f2"
      },
      "execution_count": 26,
      "outputs": [
        {
          "output_type": "stream",
          "name": "stdout",
          "text": [
            "Olá mundo a partir de uma variável\n"
          ]
        }
      ]
    },
    {
      "cell_type": "code",
      "source": [
        "# No Jupyter Notebook, se a variável for a última linha,\n",
        "# ela é exibida automaticamente:\n",
        "message"
      ],
      "metadata": {
        "id": "DlWYpDNk5RFu",
        "colab": {
          "base_uri": "https://localhost:8080/",
          "height": 35
        },
        "outputId": "fefe2ba2-640f-4410-d5cf-697693dc5ced"
      },
      "execution_count": 27,
      "outputs": [
        {
          "output_type": "execute_result",
          "data": {
            "text/plain": [
              "'Olá mundo a partir de uma variável'"
            ],
            "application/vnd.google.colaboratory.intrinsic+json": {
              "type": "string"
            }
          },
          "metadata": {},
          "execution_count": 27
        }
      ]
    },
    {
      "cell_type": "code",
      "source": [
        "# ⌨️ Recebendo dados do usuário\n",
        "name = input('Qual é o seu nome? ') # (o usuário digita algo e aperta Enter)"
      ],
      "metadata": {
        "id": "8SlfW10N5cmt",
        "colab": {
          "base_uri": "https://localhost:8080/"
        },
        "outputId": "13d799b1-e9df-4a98-b580-f5905ab7585b"
      },
      "execution_count": 28,
      "outputs": [
        {
          "name": "stdout",
          "output_type": "stream",
          "text": [
            "Qual é o seu nome? Gean\n"
          ]
        }
      ]
    },
    {
      "cell_type": "code",
      "source": [
        "print('Olá', name)\n",
        "# Saída (se digitou Gean): Olá Gean"
      ],
      "metadata": {
        "id": "LNHF4psz5rdO",
        "colab": {
          "base_uri": "https://localhost:8080/"
        },
        "outputId": "ea17eb4d-6da1-4b4c-e4d2-644e3fd85c75"
      },
      "execution_count": 29,
      "outputs": [
        {
          "output_type": "stream",
          "name": "stdout",
          "text": [
            "Olá Gean\n"
          ]
        }
      ]
    },
    {
      "cell_type": "code",
      "source": [
        "# Forma mais compacta usando f-string (mais flexível e moderna)\n",
        "\n",
        "name = input('Qual é o seu nome? ')\n",
        "print(f\"Olá, {name}\")\n",
        "\n",
        "# 💡 A f-string permite inserir variáveis diretamente no texto,\n",
        "#    e também aplicar formatações."
      ],
      "metadata": {
        "id": "t2QLPevD6DDP",
        "colab": {
          "base_uri": "https://localhost:8080/"
        },
        "outputId": "92ee2cf2-db07-4233-833e-35ea7e821cb4"
      },
      "execution_count": 30,
      "outputs": [
        {
          "output_type": "stream",
          "name": "stdout",
          "text": [
            "Qual é o seu nome? Gean\n",
            "Olá, Gean\n"
          ]
        }
      ]
    },
    {
      "cell_type": "markdown",
      "source": [
        "# **Operadores Matemáticos**"
      ],
      "metadata": {
        "id": "CgEvdEgr9UBG"
      }
    },
    {
      "cell_type": "markdown",
      "source": [
        "Vamos criar duas variáveis para os exemplos"
      ],
      "metadata": {
        "id": "Yb804mNxvVR5"
      }
    },
    {
      "cell_type": "code",
      "source": [
        "n1 = 7\n",
        "n2 = 2"
      ],
      "metadata": {
        "id": "d3JckwzPvfYJ"
      },
      "execution_count": 31,
      "outputs": []
    },
    {
      "cell_type": "markdown",
      "source": [
        "---"
      ],
      "metadata": {
        "id": "0oS0lRfZvoY6"
      }
    },
    {
      "cell_type": "code",
      "source": [
        "# ➕ Adição\n",
        "soma = n1 + n2\n",
        "print(soma)  # 9"
      ],
      "metadata": {
        "id": "4-yHCmDGlCZU",
        "colab": {
          "base_uri": "https://localhost:8080/"
        },
        "outputId": "42f587a5-56b5-4acf-f592-e0325bf35f4b"
      },
      "execution_count": 32,
      "outputs": [
        {
          "output_type": "stream",
          "name": "stdout",
          "text": [
            "9\n"
          ]
        }
      ]
    },
    {
      "cell_type": "code",
      "source": [
        "# Adição acumulada\n",
        "soma = soma + n2\n",
        "print (soma) # 11"
      ],
      "metadata": {
        "id": "UYEAh_HplJd8",
        "colab": {
          "base_uri": "https://localhost:8080/"
        },
        "outputId": "7e0ccc1c-dd87-45b7-91f3-ca40a16c8e07"
      },
      "execution_count": 33,
      "outputs": [
        {
          "output_type": "stream",
          "name": "stdout",
          "text": [
            "11\n"
          ]
        }
      ]
    },
    {
      "cell_type": "code",
      "source": [
        "# Forma reduzida (+=)\n",
        "soma += n2\n",
        "print(soma)  # 13"
      ],
      "metadata": {
        "id": "GGQc0EH1lRWh",
        "colab": {
          "base_uri": "https://localhost:8080/"
        },
        "outputId": "f0cfcbf0-9cd7-4d8e-dc7f-e00242523fc6"
      },
      "execution_count": 34,
      "outputs": [
        {
          "output_type": "stream",
          "name": "stdout",
          "text": [
            "13\n"
          ]
        }
      ]
    },
    {
      "cell_type": "markdown",
      "source": [
        "---"
      ],
      "metadata": {
        "id": "JJhNMPN4w1ib"
      }
    },
    {
      "cell_type": "code",
      "source": [
        "# ➖ Subtração\n",
        "sub = n1 - n2\n",
        "print (sub) # 5"
      ],
      "metadata": {
        "id": "5rryzc17lYrK",
        "colab": {
          "base_uri": "https://localhost:8080/"
        },
        "outputId": "93835480-09de-42e3-aaac-c13d4aa3ca79"
      },
      "execution_count": 35,
      "outputs": [
        {
          "output_type": "stream",
          "name": "stdout",
          "text": [
            "5\n"
          ]
        }
      ]
    },
    {
      "cell_type": "code",
      "source": [
        "# Subtração acumulada\n",
        "sub = sub - n2\n",
        "print (sub) # 3"
      ],
      "metadata": {
        "id": "F_nwPKDwxWZw",
        "colab": {
          "base_uri": "https://localhost:8080/"
        },
        "outputId": "7835cbac-e30c-4970-fd28-217e793ac5f9"
      },
      "execution_count": 36,
      "outputs": [
        {
          "output_type": "stream",
          "name": "stdout",
          "text": [
            "3\n"
          ]
        }
      ]
    },
    {
      "cell_type": "code",
      "source": [
        "# forma reduzida\n",
        "sub -= n2\n",
        "print (sub) # 1"
      ],
      "metadata": {
        "id": "5QtckcyaxgcA",
        "colab": {
          "base_uri": "https://localhost:8080/"
        },
        "outputId": "2cdbd988-c39c-4491-c485-2c2e856bad67"
      },
      "execution_count": 37,
      "outputs": [
        {
          "output_type": "stream",
          "name": "stdout",
          "text": [
            "1\n"
          ]
        }
      ]
    },
    {
      "cell_type": "markdown",
      "source": [
        "---"
      ],
      "metadata": {
        "id": "CJ6yUprQxsLD"
      }
    },
    {
      "cell_type": "code",
      "source": [
        "# ✖ Multiplicação\n",
        "mult = n1 * n2\n",
        "print (mult) # 14"
      ],
      "metadata": {
        "id": "w7p2PJpvluaX",
        "colab": {
          "base_uri": "https://localhost:8080/"
        },
        "outputId": "59a438fb-3103-4b32-8f6a-cf3094ded0e7"
      },
      "execution_count": 38,
      "outputs": [
        {
          "output_type": "stream",
          "name": "stdout",
          "text": [
            "14\n"
          ]
        }
      ]
    },
    {
      "cell_type": "code",
      "source": [
        "# multiplicação acumulada\n",
        "mult = mult * n2 # tbm pode ser utilizada a forma reduzida *=\n",
        "print (mult) # 28"
      ],
      "metadata": {
        "id": "M3exnt3Tl3mO",
        "colab": {
          "base_uri": "https://localhost:8080/"
        },
        "outputId": "68277f71-5505-4d0a-fa81-fd1eecf27115"
      },
      "execution_count": 39,
      "outputs": [
        {
          "output_type": "stream",
          "name": "stdout",
          "text": [
            "28\n"
          ]
        }
      ]
    },
    {
      "cell_type": "markdown",
      "source": [
        "---"
      ],
      "metadata": {
        "id": "uDt2FXeNyNCk"
      }
    },
    {
      "cell_type": "code",
      "source": [
        "# ➗ Divisão\n",
        "div = n1 / n2\n",
        "print(f\"{n1} dividido por {n2} = {div}\")"
      ],
      "metadata": {
        "id": "NXN4ExN7mFnd",
        "colab": {
          "base_uri": "https://localhost:8080/"
        },
        "outputId": "7ac8750d-edd4-4c85-d475-c00be8a61bd6"
      },
      "execution_count": 40,
      "outputs": [
        {
          "output_type": "stream",
          "name": "stdout",
          "text": [
            "7 dividido por 2 = 3.5\n"
          ]
        }
      ]
    },
    {
      "cell_type": "code",
      "source": [
        "# O operador '/' sempre retorna float\n",
        "print(10 / 2)  # 5.0"
      ],
      "metadata": {
        "id": "DT_FUMm-zFqG",
        "colab": {
          "base_uri": "https://localhost:8080/"
        },
        "outputId": "f51a4d1d-e84b-40fb-b682-c7f7f3deab2c"
      },
      "execution_count": 41,
      "outputs": [
        {
          "output_type": "stream",
          "name": "stdout",
          "text": [
            "5.0\n"
          ]
        }
      ]
    },
    {
      "cell_type": "markdown",
      "source": [
        "---"
      ],
      "metadata": {
        "id": "3py7kq5ozO4-"
      }
    },
    {
      "cell_type": "code",
      "source": [
        "# 🔢 Divisão inteira (parte inteira do resultado)\n",
        "intdiv = n1 // n2\n",
        "print(f\"parte inteira de {n1} dividido por {n2} = {intdiv}\")  # 3"
      ],
      "metadata": {
        "id": "-484agL5sOHq",
        "colab": {
          "base_uri": "https://localhost:8080/"
        },
        "outputId": "5a9cf900-3c34-4908-ff4b-ed4909403305"
      },
      "execution_count": 42,
      "outputs": [
        {
          "output_type": "stream",
          "name": "stdout",
          "text": [
            "parte inteira de 7 dividido por 2 = 3\n"
          ]
        }
      ]
    },
    {
      "cell_type": "code",
      "source": [
        "# Atenção com números negativos:\n",
        "print(-7 // 2)  # -4 (arredonda para baixo)"
      ],
      "metadata": {
        "id": "kRrTDN-5sy75",
        "colab": {
          "base_uri": "https://localhost:8080/"
        },
        "outputId": "20d36e30-19e4-4e15-f69a-59341a6619ec"
      },
      "execution_count": 43,
      "outputs": [
        {
          "output_type": "stream",
          "name": "stdout",
          "text": [
            "-4\n"
          ]
        }
      ]
    },
    {
      "cell_type": "markdown",
      "source": [
        "---"
      ],
      "metadata": {
        "id": "Eks3L8fLzd2-"
      }
    },
    {
      "cell_type": "code",
      "source": [
        "# ➗ Resto da divisão (módulo)\n",
        "restdiv = n1 % n2\n",
        "print(f\"resto de {n1} dividido por {n2} = {restdiv}\")  # 1"
      ],
      "metadata": {
        "id": "gOOcgotbsWR7",
        "colab": {
          "base_uri": "https://localhost:8080/"
        },
        "outputId": "80e2480c-fdba-4086-ff32-a13acf6c8675"
      },
      "execution_count": 44,
      "outputs": [
        {
          "output_type": "stream",
          "name": "stdout",
          "text": [
            "resto de 7 dividido por 2 = 1\n"
          ]
        }
      ]
    },
    {
      "cell_type": "markdown",
      "source": [
        "---"
      ],
      "metadata": {
        "id": "265OHWUyz4ut"
      }
    },
    {
      "cell_type": "code",
      "source": [
        "# 🔼 Potenciação\n",
        "pot = n1 ** n2\n",
        "print(f\"{n1} elevado a {n2}ª potência = {pot}\")  # 49"
      ],
      "metadata": {
        "id": "dGKJ3ERonBge",
        "colab": {
          "base_uri": "https://localhost:8080/"
        },
        "outputId": "37daf16e-c0ae-4f62-80f7-690b954ca919"
      },
      "execution_count": 45,
      "outputs": [
        {
          "output_type": "stream",
          "name": "stdout",
          "text": [
            "7 elevado a 2ª potência = 49\n"
          ]
        }
      ]
    },
    {
      "cell_type": "code",
      "source": [
        "# Outra forma (usando função)\n",
        "print(pow(n1, n2))  # 49"
      ],
      "metadata": {
        "id": "nEJRKlvP0AfT",
        "colab": {
          "base_uri": "https://localhost:8080/"
        },
        "outputId": "6be45bbb-5fdf-4120-aa76-84fb0252c9de"
      },
      "execution_count": 46,
      "outputs": [
        {
          "output_type": "stream",
          "name": "stdout",
          "text": [
            "49\n"
          ]
        }
      ]
    },
    {
      "cell_type": "markdown",
      "source": [
        "**💡 Ordem de precedência**: Regra geral de precedência (do maior para o menor):\n",
        "\n",
        "1.   Parênteses ()\n",
        "2.   Potenciação **\n",
        "3.   Multiplicação *, Divisão /, Divisão inteira //, Módulo %\n",
        "4.   Adição +, Subtração -"
      ],
      "metadata": {
        "id": "79B-jRA5qGOB"
      }
    },
    {
      "cell_type": "code",
      "source": [
        "resultado = 3 + 2 * 5\n",
        "print(resultado)  # 13, pois multiplica antes de somar"
      ],
      "metadata": {
        "id": "rhSzaUqFqdsh",
        "colab": {
          "base_uri": "https://localhost:8080/"
        },
        "outputId": "c1e2c71b-f162-40c8-8d31-204793543985"
      },
      "execution_count": 47,
      "outputs": [
        {
          "output_type": "stream",
          "name": "stdout",
          "text": [
            "13\n"
          ]
        }
      ]
    },
    {
      "cell_type": "code",
      "source": [
        "resultado = (3 + 2) * 5\n",
        "print(resultado)  # 25, pois o parêntese altera a ordem"
      ],
      "metadata": {
        "id": "Kk2YD85HqjFl",
        "colab": {
          "base_uri": "https://localhost:8080/"
        },
        "outputId": "026d8a58-6e27-46c0-9c01-8f218f28df56"
      },
      "execution_count": 48,
      "outputs": [
        {
          "output_type": "stream",
          "name": "stdout",
          "text": [
            "25\n"
          ]
        }
      ]
    },
    {
      "cell_type": "markdown",
      "source": [
        "**Operadores unários (+ e -)**\n",
        "<br>Usados para indicar ou inverter sinais"
      ],
      "metadata": {
        "id": "BGkLskkxqrvY"
      }
    },
    {
      "cell_type": "code",
      "source": [
        "a = 5\n",
        "b = -3\n",
        "print(-a)  # -5\n",
        "print(+a)  # 5\n",
        "print(-b)  # 3\n",
        "print(+b)  # -3"
      ],
      "metadata": {
        "id": "glRIbFi-qvcq",
        "colab": {
          "base_uri": "https://localhost:8080/"
        },
        "outputId": "7b38dae2-f449-4f4e-a97f-44be99e0aad4"
      },
      "execution_count": 49,
      "outputs": [
        {
          "output_type": "stream",
          "name": "stdout",
          "text": [
            "-5\n",
            "5\n",
            "3\n",
            "-3\n"
          ]
        }
      ]
    },
    {
      "cell_type": "markdown",
      "source": [
        "# **Importação de bibliotecas e pacotes**\n",
        "Em Python, usamos **bibliotecas** (ou **módulos**) para adicionar novas funcionalidades sem precisar reescrever tudo.  \n",
        "Exemplos comuns incluem cálculos matemáticos, geração de números aleatórios e manipulação de dados.\n",
        "\n",
        "---"
      ],
      "metadata": {
        "id": "u7iWu95Jtgvr"
      }
    },
    {
      "cell_type": "markdown",
      "source": [
        "🟦 Código — exemplo com NumPy\n",
        "\n"
      ],
      "metadata": {
        "id": "h5A9U1QU2J64"
      }
    },
    {
      "cell_type": "code",
      "source": [
        "# 🧮 Usando o NumPy (biblioteca para cálculos numéricos)\n",
        "import numpy as np\n",
        "\n",
        "# Documentação oficial:\n",
        "# https://numpy.org/doc/stable/user/whatisnumpy.html\n"
      ],
      "metadata": {
        "id": "aDSkH6wduFgI"
      },
      "execution_count": 50,
      "outputs": []
    },
    {
      "cell_type": "markdown",
      "source": [
        "## 🔢 Biblioteca `math`\n",
        "\n",
        "O módulo `math` contém funções matemáticas como:\n",
        "\n",
        "- `sqrt(x)` → raiz quadrada  \n",
        "- `factorial(x)` → fatorial  \n",
        "- `ceil(x)` → arredonda para cima  \n",
        "- `floor(x)` → arredonda para baixo  \n",
        "\n",
        "Antes de usá-lo, é preciso importá-lo.  \n",
        "O acontece se `sqrt()` sem importar:\n"
      ],
      "metadata": {
        "id": "RcKBq8Kt4OCY"
      }
    },
    {
      "cell_type": "code",
      "source": [
        "# raiz_quadrada = sqrt(25)  # ❌ NameError: name 'sqrt' is not defined"
      ],
      "metadata": {
        "id": "dvHr65s84biY"
      },
      "execution_count": 51,
      "outputs": []
    },
    {
      "cell_type": "markdown",
      "source": [
        "Agora sim, vamos importar o módulo `math` e usar suas funções.\n"
      ],
      "metadata": {
        "id": "yuYl2dWI4yTg"
      }
    },
    {
      "cell_type": "code",
      "source": [
        "import math\n",
        "\n",
        "# Documentação oficial:\n",
        "# https://docs.python.org/3/library/math.html\n",
        "\n",
        "n = 18\n",
        "raiz = math.sqrt(n)\n",
        "print(f\"A raiz de {n} é igual a {raiz:.2f}\")\n",
        "\n",
        "# Também é possível calcular a raiz quadrada usando ** (potenciação)\n",
        "raiz2 = n ** 0.5\n",
        "print(f\"A raiz quadrada de {n} (usando **) é {raiz2:.2f}\")\n"
      ],
      "metadata": {
        "colab": {
          "base_uri": "https://localhost:8080/"
        },
        "id": "AWnXxx_4v2Ku",
        "outputId": "224953c3-c5cd-4568-a56e-6fcd9471bd81"
      },
      "execution_count": 52,
      "outputs": [
        {
          "output_type": "stream",
          "name": "stdout",
          "text": [
            "A raiz de 18 é igual a 4.24\n",
            "A raiz quadrada de 18 (usando **) é 4.24\n"
          ]
        }
      ]
    },
    {
      "cell_type": "markdown",
      "source": [
        "## ✂️ Importando funções específicas\n",
        "\n",
        "Podemos importar apenas funções desejadas de um módulo, o que torna o código mais limpo.\n"
      ],
      "metadata": {
        "id": "pMzY3Cal5LHt"
      }
    },
    {
      "cell_type": "code",
      "source": [
        "from math import sqrt\n",
        "\n",
        "r2 = sqrt(18)\n",
        "print(f\"{r2:.2f}\")\n",
        "\n",
        "# Também é possível importar várias funções ao mesmo tempo:\n",
        "from math import sqrt, factorial\n",
        "\n",
        "fact = factorial(5)  # fatorial de 5 = 5×4×3×2×1\n",
        "print(f\"5! = {fact}\")\n"
      ],
      "metadata": {
        "colab": {
          "base_uri": "https://localhost:8080/"
        },
        "id": "OEkfqhSIxqMp",
        "outputId": "f173fa22-cb59-4c03-dedc-6a8feec34e90"
      },
      "execution_count": 53,
      "outputs": [
        {
          "output_type": "stream",
          "name": "stdout",
          "text": [
            "4.24\n",
            "5! = 120\n"
          ]
        }
      ]
    },
    {
      "cell_type": "markdown",
      "source": [
        "## 🎲 Gerando números aleatórios\n",
        "\n",
        "O módulo `random` permite gerar números aleatórios, úteis em simulações e testes.\n"
      ],
      "metadata": {
        "id": "vwLKoqp-5jHi"
      }
    },
    {
      "cell_type": "code",
      "source": [
        "from random import random, randint\n",
        "\n",
        "# random() → número aleatório entre 0 e 1\n",
        "print(f\"Número aleatório (0 a 1): {random()}\")\n",
        "\n",
        "# randint(a, b) → número inteiro aleatório entre a e b\n",
        "print(f\"Número inteiro aleatório entre 1 e 10: {randint(1, 10)}\")"
      ],
      "metadata": {
        "colab": {
          "base_uri": "https://localhost:8080/"
        },
        "id": "1fi0CvVjzIZx",
        "outputId": "7e635f7d-7571-474d-acd9-db35d6767436"
      },
      "execution_count": 54,
      "outputs": [
        {
          "output_type": "stream",
          "name": "stdout",
          "text": [
            "Número aleatório (0 a 1): 0.7876602772046092\n",
            "Número inteiro aleatório entre 1 e 10: 10\n"
          ]
        }
      ]
    },
    {
      "cell_type": "markdown",
      "source": [
        "## 🧭 Acessando ajuda e documentação\n",
        "\n",
        "No **Google Colab** ou **Jupyter Notebook**, você pode visualizar a documentação diretamente:\n",
        "\n",
        "```python\n",
        "random?\n",
        "randint?\n"
      ],
      "metadata": {
        "id": "fKBOBM0z0mnA"
      }
    },
    {
      "cell_type": "code",
      "source": [
        "random?"
      ],
      "metadata": {
        "id": "sf_xiSwE0HKL"
      },
      "execution_count": 55,
      "outputs": []
    },
    {
      "cell_type": "markdown",
      "source": [
        "Ou ainda usar a função help():"
      ],
      "metadata": {
        "id": "tpesYP5453Fn"
      }
    },
    {
      "cell_type": "code",
      "source": [
        "help(randint)"
      ],
      "metadata": {
        "colab": {
          "base_uri": "https://localhost:8080/"
        },
        "id": "XKBGcBqU0I3E",
        "outputId": "754ba44c-1e55-4904-a1d5-ff94e72e440f"
      },
      "execution_count": 56,
      "outputs": [
        {
          "output_type": "stream",
          "name": "stdout",
          "text": [
            "Help on method randint in module random:\n",
            "\n",
            "randint(a, b) method of random.Random instance\n",
            "    Return random integer in range [a, b], including both end points.\n",
            "\n"
          ]
        }
      ]
    },
    {
      "cell_type": "markdown",
      "source": [
        "##💡 Resumo:\n",
        "\n",
        "Use import nome_modulo para importar tudo.\n",
        "\n",
        "Use from modulo import função para importar apenas partes específicas.\n",
        "\n",
        "Consulte sempre a documentação oficial dos módulos que usar."
      ],
      "metadata": {
        "id": "ZzSpwKJl6E8r"
      }
    },
    {
      "cell_type": "markdown",
      "source": [
        "# ⚙️ Estruturas Condicionais (`if`, `elif`, `else`)\n",
        "\n",
        "As **estruturas condicionais** permitem que o programa tome decisões com base em uma condição.\n",
        "\n",
        "A ideia é simples:  \n",
        "> “Se (if) uma condição for verdadeira, faça algo. Caso contrário (else), faça outra coisa.”\n",
        "\n",
        "Python também possui o `elif` (*else if*), usado quando há mais de uma condição a testar.\n",
        "\n",
        "---"
      ],
      "metadata": {
        "id": "T0xxPj_o62VG"
      }
    },
    {
      "cell_type": "markdown",
      "source": [
        "### 💡 Sintaxe básica\n",
        "\n",
        "```python\n",
        "if condição:\n",
        "    # bloco executado se a condição for verdadeira\n",
        "elif outra_condição:\n",
        "    # executado se a primeira for falsa e esta for verdadeira\n",
        "else:\n",
        "    # executado se todas as anteriores forem falsas"
      ],
      "metadata": {
        "id": "oWWWHz0483D-"
      }
    },
    {
      "cell_type": "code",
      "source": [
        "\n",
        "### 🟦 **Código — exemplo simples com if/else**\n",
        "\n",
        "# Exemplo básico\n",
        "nota = 5.5\n",
        "\n",
        "if nota >= 6:\n",
        "    print('Aprovado')\n",
        "else:\n",
        "    print('Reprovado')\n"
      ],
      "metadata": {
        "id": "c4Y7a7j6687N",
        "outputId": "3f761240-b3e3-448b-f065-c3a6e82cb79d",
        "colab": {
          "base_uri": "https://localhost:8080/"
        }
      },
      "execution_count": 60,
      "outputs": [
        {
          "output_type": "stream",
          "name": "stdout",
          "text": [
            "Reprovado\n"
          ]
        }
      ]
    },
    {
      "cell_type": "markdown",
      "source": [
        "📘 **Explicação:**\n",
        "- O programa verifica se `nota` é maior ou igual a 6.  \n",
        "- Se for, exibe “Aprovado”.  \n",
        "- Caso contrário, exibe “Reprovado”.\n",
        "\n",
        "No exemplo acima, a nota é 5.5 → portanto, o resultado será:\n",
        "> Reprovado\n"
      ],
      "metadata": {
        "id": "COOEPN5Y9Xm9"
      }
    },
    {
      "cell_type": "code",
      "source": [
        "# 🟦 Código — exemplo com elif\n",
        "nota = 5.5\n",
        "\n",
        "if nota >= 6:\n",
        "    print('Aprovado')\n",
        "elif nota >= 5:\n",
        "    print('Recuperação')\n",
        "else:\n",
        "    print('Reprovado')\n"
      ],
      "metadata": {
        "id": "m5UB89Zd7tuq",
        "outputId": "14ec6f76-9a09-437c-8bd1-32ab1de92041",
        "colab": {
          "base_uri": "https://localhost:8080/"
        }
      },
      "execution_count": 59,
      "outputs": [
        {
          "output_type": "stream",
          "name": "stdout",
          "text": [
            "Recuperação\n"
          ]
        }
      ]
    },
    {
      "cell_type": "markdown",
      "source": [
        "📗 **Explicação:**\n",
        "- Se a nota for **6 ou mais**, o aluno é **Aprovado**.  \n",
        "- Se for **entre 5 e 6**, entra em **Recuperação**.  \n",
        "- Se for **menor que 5**, é **Reprovado**.\n",
        "\n",
        "💡 Repare que o `elif` só é avaliado **se o `if` for falso**.  \n",
        "Ou seja, o Python verifica as condições **de cima para baixo** e **para na primeira verdadeira**.\n"
      ],
      "metadata": {
        "id": "VL44-Yd79wni"
      }
    },
    {
      "cell_type": "markdown",
      "source": [
        "## 🧩 Exemplos extras\n",
        "Você pode combinar condições usando os operadores lógicos `and`, `or` e `not`:\n"
      ],
      "metadata": {
        "id": "mh0Fk0ai-Spt"
      }
    },
    {
      "cell_type": "code",
      "source": [
        "idade = 20\n",
        "possui_carteira = True\n",
        "\n",
        "if idade >= 18 and possui_carteira:\n",
        "    print(\"Pode dirigir\")\n",
        "else:\n",
        "    print(\"Não pode dirigir\")"
      ],
      "metadata": {
        "id": "xqOe3k2q-aGt"
      },
      "execution_count": null,
      "outputs": []
    },
    {
      "cell_type": "markdown",
      "source": [
        "Também é possivel usar comparações encadeadas:"
      ],
      "metadata": {
        "id": "eUdDzU8V-e-V"
      }
    },
    {
      "cell_type": "code",
      "source": [
        "nota = 7\n",
        "if 6 <= nota <= 10:\n",
        "    print(\"Aprovado com boa nota!\")\n"
      ],
      "metadata": {
        "id": "0pYEgEi--mEX",
        "outputId": "63e4f8f0-b83f-4004-fdb9-f3e82c385023",
        "colab": {
          "base_uri": "https://localhost:8080/"
        }
      },
      "execution_count": 61,
      "outputs": [
        {
          "output_type": "stream",
          "name": "stdout",
          "text": [
            "Aprovado com boa nota!\n"
          ]
        }
      ]
    }
  ]
}