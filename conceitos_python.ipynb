{
  "nbformat": 4,
  "nbformat_minor": 0,
  "metadata": {
    "colab": {
      "provenance": [],
      "toc_visible": true,
      "authorship_tag": "ABX9TyODwoUTNeJHijeG5RK6BA+r",
      "include_colab_link": true
    },
    "kernelspec": {
      "name": "python3",
      "display_name": "Python 3"
    },
    "language_info": {
      "name": "python"
    }
  },
  "cells": [
    {
      "cell_type": "markdown",
      "metadata": {
        "id": "view-in-github",
        "colab_type": "text"
      },
      "source": [
        "<a href=\"https://colab.research.google.com/github/gean634n/estatistica-analises-de-regressoes-com-python/blob/main/conceitos_python.ipynb\" target=\"_parent\"><img src=\"https://colab.research.google.com/assets/colab-badge.svg\" alt=\"Open In Colab\"/></a>"
      ]
    },
    {
      "cell_type": "markdown",
      "source": [
        "# **Introdução**"
      ],
      "metadata": {
        "id": "MfvomC6Z4N_p"
      }
    },
    {
      "cell_type": "markdown",
      "source": [
        "Comandos básicos de Python para aplicar em análise de dados."
      ],
      "metadata": {
        "id": "qToBMDPi4VRr"
      }
    },
    {
      "cell_type": "code",
      "source": [
        "print ('Olá mundo!!!')"
      ],
      "metadata": {
        "colab": {
          "base_uri": "https://localhost:8080/"
        },
        "id": "-MbVvHA44dXd",
        "outputId": "d1861adc-3436-4c43-fd64-7dbf3c086077"
      },
      "execution_count": null,
      "outputs": [
        {
          "output_type": "stream",
          "name": "stdout",
          "text": [
            "Olá mundo!!!\n"
          ]
        }
      ]
    },
    {
      "cell_type": "code",
      "source": [
        "message = 'Olá mundo a partir de uma variavel'"
      ],
      "metadata": {
        "id": "MFBXwi0e4nR8"
      },
      "execution_count": null,
      "outputs": []
    },
    {
      "cell_type": "code",
      "source": [
        "print (message)"
      ],
      "metadata": {
        "colab": {
          "base_uri": "https://localhost:8080/"
        },
        "id": "pof5Mxts5Dwq",
        "outputId": "04e821c3-f7da-49af-c0d0-cc2170d22dc3"
      },
      "execution_count": null,
      "outputs": [
        {
          "output_type": "stream",
          "name": "stdout",
          "text": [
            "Olá mundo a partir de uma variavel\n"
          ]
        }
      ]
    },
    {
      "cell_type": "code",
      "source": [
        "message"
      ],
      "metadata": {
        "colab": {
          "base_uri": "https://localhost:8080/",
          "height": 35
        },
        "id": "DlWYpDNk5RFu",
        "outputId": "e048bcaa-b3a4-48b2-db9a-b23192fd826f"
      },
      "execution_count": null,
      "outputs": [
        {
          "output_type": "execute_result",
          "data": {
            "text/plain": [
              "'Olá mundo a partir de uma variavel'"
            ],
            "application/vnd.google.colaboratory.intrinsic+json": {
              "type": "string"
            }
          },
          "metadata": {},
          "execution_count": 4
        }
      ]
    },
    {
      "cell_type": "code",
      "source": [
        "name = input ('Qual é o seu nome? ')"
      ],
      "metadata": {
        "colab": {
          "base_uri": "https://localhost:8080/"
        },
        "id": "8SlfW10N5cmt",
        "outputId": "f9d22fd0-32dc-4077-e706-4c1e5baeea6d"
      },
      "execution_count": null,
      "outputs": [
        {
          "name": "stdout",
          "output_type": "stream",
          "text": [
            "Qual é o seu nome? Gean\n"
          ]
        }
      ]
    },
    {
      "cell_type": "code",
      "source": [
        "print ('Olá', name)"
      ],
      "metadata": {
        "colab": {
          "base_uri": "https://localhost:8080/"
        },
        "id": "LNHF4psz5rdO",
        "outputId": "2c8f0458-8430-4195-df8a-cd459911e084"
      },
      "execution_count": null,
      "outputs": [
        {
          "output_type": "stream",
          "name": "stdout",
          "text": [
            "Olá Gean\n"
          ]
        }
      ]
    },
    {
      "cell_type": "code",
      "source": [
        "name = input('Qual é o seu nome?')\n",
        "print ('Olá', name)"
      ],
      "metadata": {
        "colab": {
          "base_uri": "https://localhost:8080/"
        },
        "id": "t2QLPevD6DDP",
        "outputId": "6158f0bb-d74a-4f70-f5aa-4599bdcf84d4"
      },
      "execution_count": null,
      "outputs": [
        {
          "output_type": "stream",
          "name": "stdout",
          "text": [
            "Qual é o seu nome?Gean\n",
            "Olá Gean\n"
          ]
        }
      ]
    }
  ]
}